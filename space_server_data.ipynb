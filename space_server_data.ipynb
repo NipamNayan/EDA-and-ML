{
 "cells": [
  {
   "cell_type": "code",
   "execution_count": 1,
   "metadata": {},
   "outputs": [],
   "source": [
    "# Importing Required Modules\n",
    "import pandas as pd\n",
    "import numpy as np\n",
    "import matplotlib.pyplot as plt\n",
    "import matplotlib as mpl\n",
    "import seaborn as sns\n",
    "%matplotlib inline\n",
    "import warnings\n",
    "warnings.filterwarnings('ignore')"
   ]
  },
  {
   "cell_type": "code",
   "execution_count": 49,
   "metadata": {},
   "outputs": [],
   "source": [
    "from sklearn.preprocessing import LabelEncoder\n",
    "from sklearn.model_selection import train_test_split\n",
    "from sklearn.svm import SVC\n",
    "from sklearn.cluster import KMeans\n",
    "from sklearn.linear_model import LogisticRegression\n",
    "from sklearn.ensemble import RandomForestClassifier\n",
    "from sklearn.metrics import accuracy_score, confusion_matrix, classification_report"
   ]
  },
  {
   "cell_type": "code",
   "execution_count": 3,
   "metadata": {},
   "outputs": [],
   "source": [
    "data = pd.read_csv('space_server.csv')"
   ]
  },
  {
   "cell_type": "code",
   "execution_count": 4,
   "metadata": {},
   "outputs": [
    {
     "data": {
      "text/html": [
       "<div>\n",
       "<style scoped>\n",
       "    .dataframe tbody tr th:only-of-type {\n",
       "        vertical-align: middle;\n",
       "    }\n",
       "\n",
       "    .dataframe tbody tr th {\n",
       "        vertical-align: top;\n",
       "    }\n",
       "\n",
       "    .dataframe thead th {\n",
       "        text-align: right;\n",
       "    }\n",
       "</style>\n",
       "<table border=\"1\" class=\"dataframe\">\n",
       "  <thead>\n",
       "    <tr style=\"text-align: right;\">\n",
       "      <th></th>\n",
       "      <th>objid</th>\n",
       "      <th>ra</th>\n",
       "      <th>dec</th>\n",
       "      <th>u</th>\n",
       "      <th>g</th>\n",
       "      <th>r</th>\n",
       "      <th>i</th>\n",
       "      <th>z</th>\n",
       "      <th>run</th>\n",
       "      <th>rerun</th>\n",
       "      <th>camcol</th>\n",
       "      <th>field</th>\n",
       "      <th>specobjid</th>\n",
       "      <th>class</th>\n",
       "      <th>redshift</th>\n",
       "      <th>plate</th>\n",
       "      <th>mjd</th>\n",
       "      <th>fiberid</th>\n",
       "    </tr>\n",
       "  </thead>\n",
       "  <tbody>\n",
       "    <tr>\n",
       "      <th>0</th>\n",
       "      <td>1.237650e+18</td>\n",
       "      <td>183.531326</td>\n",
       "      <td>0.089693</td>\n",
       "      <td>19.47406</td>\n",
       "      <td>17.04240</td>\n",
       "      <td>15.94699</td>\n",
       "      <td>15.50342</td>\n",
       "      <td>15.22531</td>\n",
       "      <td>752</td>\n",
       "      <td>301</td>\n",
       "      <td>4</td>\n",
       "      <td>267</td>\n",
       "      <td>3.722360e+18</td>\n",
       "      <td>STAR</td>\n",
       "      <td>-0.000009</td>\n",
       "      <td>3306</td>\n",
       "      <td>54922</td>\n",
       "      <td>491</td>\n",
       "    </tr>\n",
       "    <tr>\n",
       "      <th>1</th>\n",
       "      <td>1.237650e+18</td>\n",
       "      <td>183.598371</td>\n",
       "      <td>0.135285</td>\n",
       "      <td>18.66280</td>\n",
       "      <td>17.21449</td>\n",
       "      <td>16.67637</td>\n",
       "      <td>16.48922</td>\n",
       "      <td>16.39150</td>\n",
       "      <td>752</td>\n",
       "      <td>301</td>\n",
       "      <td>4</td>\n",
       "      <td>267</td>\n",
       "      <td>3.638140e+17</td>\n",
       "      <td>STAR</td>\n",
       "      <td>-0.000055</td>\n",
       "      <td>323</td>\n",
       "      <td>51615</td>\n",
       "      <td>541</td>\n",
       "    </tr>\n",
       "    <tr>\n",
       "      <th>2</th>\n",
       "      <td>1.237650e+18</td>\n",
       "      <td>183.680207</td>\n",
       "      <td>0.126185</td>\n",
       "      <td>19.38298</td>\n",
       "      <td>18.19169</td>\n",
       "      <td>17.47428</td>\n",
       "      <td>17.08732</td>\n",
       "      <td>16.80125</td>\n",
       "      <td>752</td>\n",
       "      <td>301</td>\n",
       "      <td>4</td>\n",
       "      <td>268</td>\n",
       "      <td>3.232740e+17</td>\n",
       "      <td>GALAXY</td>\n",
       "      <td>0.123111</td>\n",
       "      <td>287</td>\n",
       "      <td>52023</td>\n",
       "      <td>513</td>\n",
       "    </tr>\n",
       "    <tr>\n",
       "      <th>3</th>\n",
       "      <td>1.237650e+18</td>\n",
       "      <td>183.870529</td>\n",
       "      <td>0.049911</td>\n",
       "      <td>17.76536</td>\n",
       "      <td>16.60272</td>\n",
       "      <td>16.16116</td>\n",
       "      <td>15.98233</td>\n",
       "      <td>15.90438</td>\n",
       "      <td>752</td>\n",
       "      <td>301</td>\n",
       "      <td>4</td>\n",
       "      <td>269</td>\n",
       "      <td>3.722370e+18</td>\n",
       "      <td>STAR</td>\n",
       "      <td>-0.000111</td>\n",
       "      <td>3306</td>\n",
       "      <td>54922</td>\n",
       "      <td>510</td>\n",
       "    </tr>\n",
       "    <tr>\n",
       "      <th>4</th>\n",
       "      <td>1.237650e+18</td>\n",
       "      <td>183.883288</td>\n",
       "      <td>0.102557</td>\n",
       "      <td>17.55025</td>\n",
       "      <td>16.26342</td>\n",
       "      <td>16.43869</td>\n",
       "      <td>16.55492</td>\n",
       "      <td>16.61326</td>\n",
       "      <td>752</td>\n",
       "      <td>301</td>\n",
       "      <td>4</td>\n",
       "      <td>269</td>\n",
       "      <td>3.722370e+18</td>\n",
       "      <td>STAR</td>\n",
       "      <td>0.000590</td>\n",
       "      <td>3306</td>\n",
       "      <td>54922</td>\n",
       "      <td>512</td>\n",
       "    </tr>\n",
       "  </tbody>\n",
       "</table>\n",
       "</div>"
      ],
      "text/plain": [
       "          objid          ra       dec         u         g         r         i  \\\n",
       "0  1.237650e+18  183.531326  0.089693  19.47406  17.04240  15.94699  15.50342   \n",
       "1  1.237650e+18  183.598371  0.135285  18.66280  17.21449  16.67637  16.48922   \n",
       "2  1.237650e+18  183.680207  0.126185  19.38298  18.19169  17.47428  17.08732   \n",
       "3  1.237650e+18  183.870529  0.049911  17.76536  16.60272  16.16116  15.98233   \n",
       "4  1.237650e+18  183.883288  0.102557  17.55025  16.26342  16.43869  16.55492   \n",
       "\n",
       "          z  run  rerun  camcol  field     specobjid   class  redshift  plate  \\\n",
       "0  15.22531  752    301       4    267  3.722360e+18    STAR -0.000009   3306   \n",
       "1  16.39150  752    301       4    267  3.638140e+17    STAR -0.000055    323   \n",
       "2  16.80125  752    301       4    268  3.232740e+17  GALAXY  0.123111    287   \n",
       "3  15.90438  752    301       4    269  3.722370e+18    STAR -0.000111   3306   \n",
       "4  16.61326  752    301       4    269  3.722370e+18    STAR  0.000590   3306   \n",
       "\n",
       "     mjd  fiberid  \n",
       "0  54922      491  \n",
       "1  51615      541  \n",
       "2  52023      513  \n",
       "3  54922      510  \n",
       "4  54922      512  "
      ]
     },
     "execution_count": 4,
     "metadata": {},
     "output_type": "execute_result"
    }
   ],
   "source": [
    "data.head()"
   ]
  },
  {
   "cell_type": "code",
   "execution_count": 5,
   "metadata": {},
   "outputs": [
    {
     "data": {
      "text/plain": [
       "(10000, 18)"
      ]
     },
     "execution_count": 5,
     "metadata": {},
     "output_type": "execute_result"
    }
   ],
   "source": [
    "data.shape"
   ]
  },
  {
   "cell_type": "code",
   "execution_count": 6,
   "metadata": {},
   "outputs": [],
   "source": [
    "data = data.drop('objid', axis = 1)"
   ]
  },
  {
   "cell_type": "code",
   "execution_count": 7,
   "metadata": {},
   "outputs": [
    {
     "data": {
      "text/plain": [
       "ra           False\n",
       "dec          False\n",
       "u            False\n",
       "g            False\n",
       "r            False\n",
       "i            False\n",
       "z            False\n",
       "run          False\n",
       "rerun        False\n",
       "camcol       False\n",
       "field        False\n",
       "specobjid    False\n",
       "class        False\n",
       "redshift     False\n",
       "plate        False\n",
       "mjd          False\n",
       "fiberid      False\n",
       "dtype: bool"
      ]
     },
     "execution_count": 7,
     "metadata": {},
     "output_type": "execute_result"
    }
   ],
   "source": [
    "data.isnull().any()   # No Null Values"
   ]
  },
  {
   "cell_type": "code",
   "execution_count": 8,
   "metadata": {},
   "outputs": [
    {
     "name": "stdout",
     "output_type": "stream",
     "text": [
      "<class 'pandas.core.frame.DataFrame'>\n",
      "RangeIndex: 10000 entries, 0 to 9999\n",
      "Data columns (total 17 columns):\n",
      " #   Column     Non-Null Count  Dtype  \n",
      "---  ------     --------------  -----  \n",
      " 0   ra         10000 non-null  float64\n",
      " 1   dec        10000 non-null  float64\n",
      " 2   u          10000 non-null  float64\n",
      " 3   g          10000 non-null  float64\n",
      " 4   r          10000 non-null  float64\n",
      " 5   i          10000 non-null  float64\n",
      " 6   z          10000 non-null  float64\n",
      " 7   run        10000 non-null  int64  \n",
      " 8   rerun      10000 non-null  int64  \n",
      " 9   camcol     10000 non-null  int64  \n",
      " 10  field      10000 non-null  int64  \n",
      " 11  specobjid  10000 non-null  float64\n",
      " 12  class      10000 non-null  object \n",
      " 13  redshift   10000 non-null  float64\n",
      " 14  plate      10000 non-null  int64  \n",
      " 15  mjd        10000 non-null  int64  \n",
      " 16  fiberid    10000 non-null  int64  \n",
      "dtypes: float64(9), int64(7), object(1)\n",
      "memory usage: 1.3+ MB\n"
     ]
    }
   ],
   "source": [
    "data.info()"
   ]
  },
  {
   "cell_type": "code",
   "execution_count": 9,
   "metadata": {},
   "outputs": [
    {
     "data": {
      "text/html": [
       "<div>\n",
       "<style scoped>\n",
       "    .dataframe tbody tr th:only-of-type {\n",
       "        vertical-align: middle;\n",
       "    }\n",
       "\n",
       "    .dataframe tbody tr th {\n",
       "        vertical-align: top;\n",
       "    }\n",
       "\n",
       "    .dataframe thead th {\n",
       "        text-align: right;\n",
       "    }\n",
       "</style>\n",
       "<table border=\"1\" class=\"dataframe\">\n",
       "  <thead>\n",
       "    <tr style=\"text-align: right;\">\n",
       "      <th></th>\n",
       "      <th>ra</th>\n",
       "      <th>dec</th>\n",
       "      <th>u</th>\n",
       "      <th>g</th>\n",
       "      <th>r</th>\n",
       "      <th>i</th>\n",
       "      <th>z</th>\n",
       "      <th>run</th>\n",
       "      <th>rerun</th>\n",
       "      <th>camcol</th>\n",
       "      <th>field</th>\n",
       "      <th>specobjid</th>\n",
       "      <th>redshift</th>\n",
       "      <th>plate</th>\n",
       "      <th>mjd</th>\n",
       "      <th>fiberid</th>\n",
       "    </tr>\n",
       "  </thead>\n",
       "  <tbody>\n",
       "    <tr>\n",
       "      <th>count</th>\n",
       "      <td>10000.000000</td>\n",
       "      <td>10000.000000</td>\n",
       "      <td>10000.000000</td>\n",
       "      <td>10000.000000</td>\n",
       "      <td>10000.000000</td>\n",
       "      <td>10000.000000</td>\n",
       "      <td>10000.000000</td>\n",
       "      <td>10000.000000</td>\n",
       "      <td>10000.0</td>\n",
       "      <td>10000.000000</td>\n",
       "      <td>10000.000000</td>\n",
       "      <td>1.000000e+04</td>\n",
       "      <td>10000.000000</td>\n",
       "      <td>10000.000000</td>\n",
       "      <td>10000.000000</td>\n",
       "      <td>10000.000000</td>\n",
       "    </tr>\n",
       "    <tr>\n",
       "      <th>mean</th>\n",
       "      <td>175.529987</td>\n",
       "      <td>14.836148</td>\n",
       "      <td>18.619355</td>\n",
       "      <td>17.371931</td>\n",
       "      <td>16.840963</td>\n",
       "      <td>16.583579</td>\n",
       "      <td>16.422833</td>\n",
       "      <td>981.034800</td>\n",
       "      <td>301.0</td>\n",
       "      <td>3.648700</td>\n",
       "      <td>302.380100</td>\n",
       "      <td>1.645022e+18</td>\n",
       "      <td>0.143726</td>\n",
       "      <td>1460.986400</td>\n",
       "      <td>52943.533300</td>\n",
       "      <td>353.069400</td>\n",
       "    </tr>\n",
       "    <tr>\n",
       "      <th>std</th>\n",
       "      <td>47.783439</td>\n",
       "      <td>25.212207</td>\n",
       "      <td>0.828656</td>\n",
       "      <td>0.945457</td>\n",
       "      <td>1.067764</td>\n",
       "      <td>1.141805</td>\n",
       "      <td>1.203188</td>\n",
       "      <td>273.305024</td>\n",
       "      <td>0.0</td>\n",
       "      <td>1.666183</td>\n",
       "      <td>162.577763</td>\n",
       "      <td>2.013998e+18</td>\n",
       "      <td>0.388774</td>\n",
       "      <td>1788.778371</td>\n",
       "      <td>1511.150651</td>\n",
       "      <td>206.298149</td>\n",
       "    </tr>\n",
       "    <tr>\n",
       "      <th>min</th>\n",
       "      <td>8.235100</td>\n",
       "      <td>-5.382632</td>\n",
       "      <td>12.988970</td>\n",
       "      <td>12.799550</td>\n",
       "      <td>12.431600</td>\n",
       "      <td>11.947210</td>\n",
       "      <td>11.610410</td>\n",
       "      <td>308.000000</td>\n",
       "      <td>301.0</td>\n",
       "      <td>1.000000</td>\n",
       "      <td>11.000000</td>\n",
       "      <td>2.995780e+17</td>\n",
       "      <td>-0.004136</td>\n",
       "      <td>266.000000</td>\n",
       "      <td>51578.000000</td>\n",
       "      <td>1.000000</td>\n",
       "    </tr>\n",
       "    <tr>\n",
       "      <th>25%</th>\n",
       "      <td>157.370946</td>\n",
       "      <td>-0.539035</td>\n",
       "      <td>18.178035</td>\n",
       "      <td>16.815100</td>\n",
       "      <td>16.173333</td>\n",
       "      <td>15.853705</td>\n",
       "      <td>15.618285</td>\n",
       "      <td>752.000000</td>\n",
       "      <td>301.0</td>\n",
       "      <td>2.000000</td>\n",
       "      <td>184.000000</td>\n",
       "      <td>3.389248e+17</td>\n",
       "      <td>0.000081</td>\n",
       "      <td>301.000000</td>\n",
       "      <td>51900.000000</td>\n",
       "      <td>186.750000</td>\n",
       "    </tr>\n",
       "    <tr>\n",
       "      <th>50%</th>\n",
       "      <td>180.394514</td>\n",
       "      <td>0.404166</td>\n",
       "      <td>18.853095</td>\n",
       "      <td>17.495135</td>\n",
       "      <td>16.858770</td>\n",
       "      <td>16.554985</td>\n",
       "      <td>16.389945</td>\n",
       "      <td>756.000000</td>\n",
       "      <td>301.0</td>\n",
       "      <td>4.000000</td>\n",
       "      <td>299.000000</td>\n",
       "      <td>4.966580e+17</td>\n",
       "      <td>0.042591</td>\n",
       "      <td>441.000000</td>\n",
       "      <td>51997.000000</td>\n",
       "      <td>351.000000</td>\n",
       "    </tr>\n",
       "    <tr>\n",
       "      <th>75%</th>\n",
       "      <td>201.547279</td>\n",
       "      <td>35.649397</td>\n",
       "      <td>19.259232</td>\n",
       "      <td>18.010145</td>\n",
       "      <td>17.512675</td>\n",
       "      <td>17.258550</td>\n",
       "      <td>17.141447</td>\n",
       "      <td>1331.000000</td>\n",
       "      <td>301.0</td>\n",
       "      <td>5.000000</td>\n",
       "      <td>414.000000</td>\n",
       "      <td>2.881300e+18</td>\n",
       "      <td>0.092579</td>\n",
       "      <td>2559.000000</td>\n",
       "      <td>54468.000000</td>\n",
       "      <td>510.000000</td>\n",
       "    </tr>\n",
       "    <tr>\n",
       "      <th>max</th>\n",
       "      <td>260.884382</td>\n",
       "      <td>68.542265</td>\n",
       "      <td>19.599900</td>\n",
       "      <td>19.918970</td>\n",
       "      <td>24.802040</td>\n",
       "      <td>28.179630</td>\n",
       "      <td>22.833060</td>\n",
       "      <td>1412.000000</td>\n",
       "      <td>301.0</td>\n",
       "      <td>6.000000</td>\n",
       "      <td>768.000000</td>\n",
       "      <td>9.468830e+18</td>\n",
       "      <td>5.353854</td>\n",
       "      <td>8410.000000</td>\n",
       "      <td>57481.000000</td>\n",
       "      <td>1000.000000</td>\n",
       "    </tr>\n",
       "  </tbody>\n",
       "</table>\n",
       "</div>"
      ],
      "text/plain": [
       "                 ra           dec             u             g             r  \\\n",
       "count  10000.000000  10000.000000  10000.000000  10000.000000  10000.000000   \n",
       "mean     175.529987     14.836148     18.619355     17.371931     16.840963   \n",
       "std       47.783439     25.212207      0.828656      0.945457      1.067764   \n",
       "min        8.235100     -5.382632     12.988970     12.799550     12.431600   \n",
       "25%      157.370946     -0.539035     18.178035     16.815100     16.173333   \n",
       "50%      180.394514      0.404166     18.853095     17.495135     16.858770   \n",
       "75%      201.547279     35.649397     19.259232     18.010145     17.512675   \n",
       "max      260.884382     68.542265     19.599900     19.918970     24.802040   \n",
       "\n",
       "                  i             z           run    rerun        camcol  \\\n",
       "count  10000.000000  10000.000000  10000.000000  10000.0  10000.000000   \n",
       "mean      16.583579     16.422833    981.034800    301.0      3.648700   \n",
       "std        1.141805      1.203188    273.305024      0.0      1.666183   \n",
       "min       11.947210     11.610410    308.000000    301.0      1.000000   \n",
       "25%       15.853705     15.618285    752.000000    301.0      2.000000   \n",
       "50%       16.554985     16.389945    756.000000    301.0      4.000000   \n",
       "75%       17.258550     17.141447   1331.000000    301.0      5.000000   \n",
       "max       28.179630     22.833060   1412.000000    301.0      6.000000   \n",
       "\n",
       "              field     specobjid      redshift         plate           mjd  \\\n",
       "count  10000.000000  1.000000e+04  10000.000000  10000.000000  10000.000000   \n",
       "mean     302.380100  1.645022e+18      0.143726   1460.986400  52943.533300   \n",
       "std      162.577763  2.013998e+18      0.388774   1788.778371   1511.150651   \n",
       "min       11.000000  2.995780e+17     -0.004136    266.000000  51578.000000   \n",
       "25%      184.000000  3.389248e+17      0.000081    301.000000  51900.000000   \n",
       "50%      299.000000  4.966580e+17      0.042591    441.000000  51997.000000   \n",
       "75%      414.000000  2.881300e+18      0.092579   2559.000000  54468.000000   \n",
       "max      768.000000  9.468830e+18      5.353854   8410.000000  57481.000000   \n",
       "\n",
       "            fiberid  \n",
       "count  10000.000000  \n",
       "mean     353.069400  \n",
       "std      206.298149  \n",
       "min        1.000000  \n",
       "25%      186.750000  \n",
       "50%      351.000000  \n",
       "75%      510.000000  \n",
       "max     1000.000000  "
      ]
     },
     "execution_count": 9,
     "metadata": {},
     "output_type": "execute_result"
    }
   ],
   "source": [
    "data.describe()"
   ]
  },
  {
   "cell_type": "code",
   "execution_count": 33,
   "metadata": {},
   "outputs": [
    {
     "name": "stdout",
     "output_type": "stream",
     "text": [
      "GALAXY    4998\n",
      "STAR      4152\n",
      "QSO        850\n",
      "Name: class, dtype: int64\n"
     ]
    },
    {
     "data": {
      "image/png": "[encoded data removed]",
      "text/plain": [
       "<Figure size 432x288 with 1 Axes>"
      ]
     },
     "metadata": {},
     "output_type": "display_data"
    }
   ],
   "source": [
    "sns.set(font_scale=1.5) \n",
    "data['class'].value_counts().plot(kind = 'bar')\n",
    "print(data['class'].value_counts())   #The Data is Unbalanced"
   ]
  },
  {
   "cell_type": "code",
   "execution_count": 34,
   "metadata": {},
   "outputs": [
    {
     "name": "stdout",
     "output_type": "stream",
     "text": [
      "GALAXY    4998\n",
      "STAR      4152\n",
      "QSO        850\n",
      "Name: class, dtype: int64\n"
     ]
    },
    {
     "data": {
      "image/png": "[encoded data removed]",
      "text/plain": [
       "<Figure size 432x288 with 1 Axes>"
      ]
     },
     "metadata": {},
     "output_type": "display_data"
    }
   ],
   "source": [
    "data['class'].value_counts().plot(kind = 'pie', autopct='%1.0f%%')\n",
    "print(data['class'].value_counts())"
   ]
  },
  {
   "cell_type": "code",
   "execution_count": 35,
   "metadata": {},
   "outputs": [
    {
     "data": {
      "text/plain": [
       "4.884705882352941"
      ]
     },
     "execution_count": 35,
     "metadata": {},
     "output_type": "execute_result"
    }
   ],
   "source": [
    "4152/850"
   ]
  },
  {
   "cell_type": "markdown",
   "metadata": {},
   "source": [
    "The Label QSO is underbalanced. We can use over-sampling to deal with the unbalanced dataset."
   ]
  },
  {
   "cell_type": "code",
   "execution_count": 36,
   "metadata": {},
   "outputs": [],
   "source": [
    "df = data.copy()"
   ]
  },
  {
   "cell_type": "code",
   "execution_count": 37,
   "metadata": {},
   "outputs": [],
   "source": [
    "from sklearn.utils import shuffle\n",
    "A= df[df['class'] == 'QSO']\n",
    "B= df[df['class'] != 'QSO']\n",
    "A_repeated = pd.concat([A]*5, ignore_index=True)\n",
    "df2 = pd.concat([A_repeated,B])\n",
    "df2 = shuffle(df2)\n",
    "df2 = df2.reset_index(drop=True)"
   ]
  },
  {
   "cell_type": "code",
   "execution_count": 38,
   "metadata": {},
   "outputs": [
    {
     "data": {
      "text/html": [
       "<div>\n",
       "<style scoped>\n",
       "    .dataframe tbody tr th:only-of-type {\n",
       "        vertical-align: middle;\n",
       "    }\n",
       "\n",
       "    .dataframe tbody tr th {\n",
       "        vertical-align: top;\n",
       "    }\n",
       "\n",
       "    .dataframe thead th {\n",
       "        text-align: right;\n",
       "    }\n",
       "</style>\n",
       "<table border=\"1\" class=\"dataframe\">\n",
       "  <thead>\n",
       "    <tr style=\"text-align: right;\">\n",
       "      <th></th>\n",
       "      <th>ra</th>\n",
       "      <th>dec</th>\n",
       "      <th>u</th>\n",
       "      <th>g</th>\n",
       "      <th>r</th>\n",
       "      <th>i</th>\n",
       "      <th>z</th>\n",
       "      <th>run</th>\n",
       "      <th>rerun</th>\n",
       "      <th>camcol</th>\n",
       "      <th>field</th>\n",
       "      <th>specobjid</th>\n",
       "      <th>class</th>\n",
       "      <th>redshift</th>\n",
       "      <th>plate</th>\n",
       "      <th>mjd</th>\n",
       "      <th>fiberid</th>\n",
       "    </tr>\n",
       "  </thead>\n",
       "  <tbody>\n",
       "    <tr>\n",
       "      <th>0</th>\n",
       "      <td>226.738575</td>\n",
       "      <td>-0.769620</td>\n",
       "      <td>18.65641</td>\n",
       "      <td>18.67263</td>\n",
       "      <td>18.89631</td>\n",
       "      <td>19.07103</td>\n",
       "      <td>19.28297</td>\n",
       "      <td>752</td>\n",
       "      <td>301</td>\n",
       "      <td>2</td>\n",
       "      <td>556</td>\n",
       "      <td>4.521650e+18</td>\n",
       "      <td>QSO</td>\n",
       "      <td>1.104045</td>\n",
       "      <td>4016</td>\n",
       "      <td>55632</td>\n",
       "      <td>128</td>\n",
       "    </tr>\n",
       "    <tr>\n",
       "      <th>1</th>\n",
       "      <td>186.880549</td>\n",
       "      <td>-0.337642</td>\n",
       "      <td>17.60875</td>\n",
       "      <td>16.39866</td>\n",
       "      <td>15.94780</td>\n",
       "      <td>15.77919</td>\n",
       "      <td>15.73317</td>\n",
       "      <td>752</td>\n",
       "      <td>301</td>\n",
       "      <td>3</td>\n",
       "      <td>289</td>\n",
       "      <td>2.880080e+18</td>\n",
       "      <td>STAR</td>\n",
       "      <td>0.000095</td>\n",
       "      <td>2558</td>\n",
       "      <td>54140</td>\n",
       "      <td>111</td>\n",
       "    </tr>\n",
       "    <tr>\n",
       "      <th>2</th>\n",
       "      <td>162.617398</td>\n",
       "      <td>-0.114194</td>\n",
       "      <td>16.59828</td>\n",
       "      <td>15.03297</td>\n",
       "      <td>14.39962</td>\n",
       "      <td>14.15712</td>\n",
       "      <td>14.02344</td>\n",
       "      <td>756</td>\n",
       "      <td>301</td>\n",
       "      <td>3</td>\n",
       "      <td>312</td>\n",
       "      <td>2.881210e+18</td>\n",
       "      <td>STAR</td>\n",
       "      <td>-0.000085</td>\n",
       "      <td>2559</td>\n",
       "      <td>54208</td>\n",
       "      <td>117</td>\n",
       "    </tr>\n",
       "    <tr>\n",
       "      <th>3</th>\n",
       "      <td>133.535472</td>\n",
       "      <td>0.498567</td>\n",
       "      <td>17.23085</td>\n",
       "      <td>15.90602</td>\n",
       "      <td>15.25801</td>\n",
       "      <td>14.91961</td>\n",
       "      <td>14.62738</td>\n",
       "      <td>1239</td>\n",
       "      <td>301</td>\n",
       "      <td>5</td>\n",
       "      <td>88</td>\n",
       "      <td>5.269690e+17</td>\n",
       "      <td>GALAXY</td>\n",
       "      <td>0.028214</td>\n",
       "      <td>468</td>\n",
       "      <td>51912</td>\n",
       "      <td>174</td>\n",
       "    </tr>\n",
       "    <tr>\n",
       "      <th>4</th>\n",
       "      <td>129.041841</td>\n",
       "      <td>0.933492</td>\n",
       "      <td>19.10315</td>\n",
       "      <td>17.30518</td>\n",
       "      <td>16.38304</td>\n",
       "      <td>15.92978</td>\n",
       "      <td>15.58536</td>\n",
       "      <td>1239</td>\n",
       "      <td>301</td>\n",
       "      <td>6</td>\n",
       "      <td>58</td>\n",
       "      <td>5.396610e+18</td>\n",
       "      <td>GALAXY</td>\n",
       "      <td>0.084716</td>\n",
       "      <td>4793</td>\n",
       "      <td>55648</td>\n",
       "      <td>614</td>\n",
       "    </tr>\n",
       "  </tbody>\n",
       "</table>\n",
       "</div>"
      ],
      "text/plain": [
       "           ra       dec         u         g         r         i         z  \\\n",
       "0  226.738575 -0.769620  18.65641  18.67263  18.89631  19.07103  19.28297   \n",
       "1  186.880549 -0.337642  17.60875  16.39866  15.94780  15.77919  15.73317   \n",
       "2  162.617398 -0.114194  16.59828  15.03297  14.39962  14.15712  14.02344   \n",
       "3  133.535472  0.498567  17.23085  15.90602  15.25801  14.91961  14.62738   \n",
       "4  129.041841  0.933492  19.10315  17.30518  16.38304  15.92978  15.58536   \n",
       "\n",
       "    run  rerun  camcol  field     specobjid   class  redshift  plate    mjd  \\\n",
       "0   752    301       2    556  4.521650e+18     QSO  1.104045   4016  55632   \n",
       "1   752    301       3    289  2.880080e+18    STAR  0.000095   2558  54140   \n",
       "2   756    301       3    312  2.881210e+18    STAR -0.000085   2559  54208   \n",
       "3  1239    301       5     88  5.269690e+17  GALAXY  0.028214    468  51912   \n",
       "4  1239    301       6     58  5.396610e+18  GALAXY  0.084716   4793  55648   \n",
       "\n",
       "   fiberid  \n",
       "0      128  \n",
       "1      111  \n",
       "2      117  \n",
       "3      174  \n",
       "4      614  "
      ]
     },
     "execution_count": 38,
     "metadata": {},
     "output_type": "execute_result"
    }
   ],
   "source": [
    "df2.head()   # the new dataset df2 which is balanced"
   ]
  },
  {
   "cell_type": "code",
   "execution_count": 39,
   "metadata": {},
   "outputs": [
    {
     "name": "stdout",
     "output_type": "stream",
     "text": [
      "GALAXY    4998\n",
      "QSO       4250\n",
      "STAR      4152\n",
      "Name: class, dtype: int64\n"
     ]
    },
    {
     "data": {
      "image/png": "[encoded data removed]",
      "text/plain": [
       "<Figure size 432x288 with 1 Axes>"
      ]
     },
     "metadata": {},
     "output_type": "display_data"
    }
   ],
   "source": [
    "df2['class'].value_counts().plot(kind = 'bar')\n",
    "print(df2['class'].value_counts())"
   ]
  },
  {
   "cell_type": "markdown",
   "metadata": {},
   "source": [
    "Now the Dataset is balanced"
   ]
  },
  {
   "cell_type": "code",
   "execution_count": 40,
   "metadata": {},
   "outputs": [
    {
     "data": {
      "text/plain": [
       "array([[<matplotlib.axes._subplots.AxesSubplot object at 0x00000268C15E5F10>,\n",
       "        <matplotlib.axes._subplots.AxesSubplot object at 0x00000268C15F0C10>,\n",
       "        <matplotlib.axes._subplots.AxesSubplot object at 0x00000268C1618490>,\n",
       "        <matplotlib.axes._subplots.AxesSubplot object at 0x00000268C16CCE80>],\n",
       "       [<matplotlib.axes._subplots.AxesSubplot object at 0x00000268C1705310>,\n",
       "        <matplotlib.axes._subplots.AxesSubplot object at 0x00000268C17316A0>,\n",
       "        <matplotlib.axes._subplots.AxesSubplot object at 0x00000268C1731790>,\n",
       "        <matplotlib.axes._subplots.AxesSubplot object at 0x00000268C175CC40>],\n",
       "       [<matplotlib.axes._subplots.AxesSubplot object at 0x00000268C17C44C0>,\n",
       "        <matplotlib.axes._subplots.AxesSubplot object at 0x00000268C17EF940>,\n",
       "        <matplotlib.axes._subplots.AxesSubplot object at 0x00000268C181BD90>,\n",
       "        <matplotlib.axes._subplots.AxesSubplot object at 0x00000268C1856220>],\n",
       "       [<matplotlib.axes._subplots.AxesSubplot object at 0x00000268C1882670>,\n",
       "        <matplotlib.axes._subplots.AxesSubplot object at 0x00000268C41EDAC0>,\n",
       "        <matplotlib.axes._subplots.AxesSubplot object at 0x00000268C421CF10>,\n",
       "        <matplotlib.axes._subplots.AxesSubplot object at 0x00000268C42553A0>]],\n",
       "      dtype=object)"
      ]
     },
     "execution_count": 40,
     "metadata": {},
     "output_type": "execute_result"
    },
    {
     "data": {
      "image/png": "[encoded data removed]",
      "text/plain": [
       "<Figure size 1008x720 with 16 Axes>"
      ]
     },
     "metadata": {},
     "output_type": "display_data"
    }
   ],
   "source": [
    "#plt.figure(figsize=(12,8))\n",
    "sns.set(font_scale=1) \n",
    "df.hist(figsize=(14,10))"
   ]
  },
  {
   "cell_type": "markdown",
   "metadata": {},
   "source": []
  },
  {
   "cell_type": "code",
   "execution_count": 64,
   "metadata": {},
   "outputs": [],
   "source": [
    "target = []\n",
    "for i in df['class']:\n",
    "    if i == 'GALAXY':\n",
    "        k = 0\n",
    "    elif i == 'STAR':\n",
    "        k = 1\n",
    "    else:\n",
    "        k = 2\n",
    "    target.append(k)"
   ]
  },
  {
   "cell_type": "code",
   "execution_count": 65,
   "metadata": {},
   "outputs": [],
   "source": [
    "df_new = df.copy()\n",
    "df_new['class'] = target"
   ]
  },
  {
   "cell_type": "code",
   "execution_count": 66,
   "metadata": {},
   "outputs": [
    {
     "data": {
      "text/plain": [
       "<matplotlib.axes._subplots.AxesSubplot at 0x268dbeb2970>"
      ]
     },
     "execution_count": 66,
     "metadata": {},
     "output_type": "execute_result"
    },
    {
     "data": {
      "image/png": "[encoded data removed]",
      "text/plain": [
       "<Figure size 720x720 with 2 Axes>"
      ]
     },
     "metadata": {},
     "output_type": "display_data"
    }
   ],
   "source": [
    "corrmat = df_new.corr()   # Corelation Matrix\n",
    "mask = np.zeros_like(corrmat, dtype=np.bool)\n",
    "mask[np.triu_indices_from(mask)] = True\n",
    "plt.figure(figsize=(10, 10))\n",
    "sns.heatmap(corrmat, annot=True, vmax=.8, square=True, cmap=\"PiYG\", center=0, mask=mask)"
   ]
  },
  {
   "cell_type": "markdown",
   "metadata": {},
   "source": [
    "There is strong corelation between some variables. We can actually remove some variables from the model since they will be redundent. e.g: plate and specobjid have corelation 1. We can keep one among them. "
   ]
  },
  {
   "cell_type": "code",
   "execution_count": 43,
   "metadata": {},
   "outputs": [
    {
     "data": {
      "text/plain": [
       "Index(['ra', 'dec', 'u', 'g', 'r', 'i', 'z', 'run', 'rerun', 'camcol', 'field',\n",
       "       'specobjid', 'class', 'redshift', 'plate', 'mjd', 'fiberid'],\n",
       "      dtype='object')"
      ]
     },
     "execution_count": 43,
     "metadata": {},
     "output_type": "execute_result"
    }
   ],
   "source": [
    "df2.columns"
   ]
  },
  {
   "cell_type": "code",
   "execution_count": 44,
   "metadata": {},
   "outputs": [
    {
     "data": {
      "text/plain": [
       "(13400, 17)"
      ]
     },
     "execution_count": 44,
     "metadata": {},
     "output_type": "execute_result"
    }
   ],
   "source": [
    "df2.shape"
   ]
  },
  {
   "cell_type": "markdown",
   "metadata": {},
   "source": [
    "### Model Building "
   ]
  },
  {
   "cell_type": "code",
   "execution_count": 45,
   "metadata": {},
   "outputs": [],
   "source": [
    "X = df2.drop('class',axis = 1).values    # Attributes"
   ]
  },
  {
   "cell_type": "code",
   "execution_count": 46,
   "metadata": {},
   "outputs": [],
   "source": [
    "y = df2['class'].values     # The target variable"
   ]
  },
  {
   "cell_type": "code",
   "execution_count": 47,
   "metadata": {},
   "outputs": [],
   "source": [
    "# Splitting into training and Test dataset\n",
    "X_train,X_test,y_train,y_test=train_test_split(X,y,test_size=0.2,random_state=48)"
   ]
  },
  {
   "cell_type": "code",
   "execution_count": 48,
   "metadata": {},
   "outputs": [],
   "source": [
    "#Building Function for Model Testing\n",
    "def classification_function(model_list):\n",
    "    for model in model_list:\n",
    "        model.fit(X_train,y_train)\n",
    "        pred=model.predict(X_test)\n",
    "        print('Model Name :', model)\n",
    "        print(\"accuracy_score: \",accuracy_score(y_test,pred))\n",
    "        #print(confusion_matrix(y_test,pred))\n",
    "        #print(classification_report(y_test,pred))\n",
    "        print('\\n')"
   ]
  },
  {
   "cell_type": "code",
   "execution_count": 50,
   "metadata": {},
   "outputs": [],
   "source": [
    "#List of Models to be tested\n",
    "model_list = [KMeans(),LogisticRegression(),SVC(),RandomForestClassifier()]"
   ]
  },
  {
   "cell_type": "code",
   "execution_count": 51,
   "metadata": {},
   "outputs": [
    {
     "name": "stdout",
     "output_type": "stream",
     "text": [
      "Model Name : KMeans()\n",
      "accuracy_score:  0.0\n",
      "\n",
      "\n",
      "Model Name : LogisticRegression()\n",
      "accuracy_score:  0.38470149253731345\n",
      "\n",
      "\n",
      "Model Name : SVC()\n",
      "accuracy_score:  0.6152985074626866\n",
      "\n",
      "\n",
      "Model Name : RandomForestClassifier()\n",
      "accuracy_score:  0.9958955223880597\n",
      "\n",
      "\n"
     ]
    }
   ],
   "source": [
    "classification_function(model_list)"
   ]
  },
  {
   "cell_type": "markdown",
   "metadata": {},
   "source": [
    "The Best Model is Random Forest"
   ]
  },
  {
   "cell_type": "code",
   "execution_count": 57,
   "metadata": {},
   "outputs": [],
   "source": [
    "rnf = RandomForestClassifier()"
   ]
  },
  {
   "cell_type": "code",
   "execution_count": 59,
   "metadata": {},
   "outputs": [
    {
     "name": "stdout",
     "output_type": "stream",
     "text": [
      "Model Name : RandomForestClassifier()\n",
      "Training Score:  1.0\n",
      "Testing_score:  0.9955223880597015\n"
     ]
    }
   ],
   "source": [
    "rnf.fit(X_train,y_train)\n",
    "pred = rnf.predict(X_test)\n",
    "print('Model Name :', rnf)\n",
    "print(\"Training Score: \", rnf.score(X_train, y_train))\n",
    "print(\"Testing_score: \",accuracy_score(y_test,pred))"
   ]
  },
  {
   "cell_type": "code",
   "execution_count": null,
   "metadata": {},
   "outputs": [],
   "source": []
  },
  {
   "cell_type": "code",
   "execution_count": null,
   "metadata": {},
   "outputs": [],
   "source": []
  },
  {
   "cell_type": "markdown",
   "metadata": {},
   "source": [
    "#### Parameters Tuning"
   ]
  },
  {
   "cell_type": "code",
   "execution_count": 53,
   "metadata": {},
   "outputs": [],
   "source": [
    "from sklearn.model_selection import GridSearchCV"
   ]
  },
  {
   "cell_type": "code",
   "execution_count": 60,
   "metadata": {},
   "outputs": [
    {
     "name": "stdout",
     "output_type": "stream",
     "text": [
      "{'max_features': 'auto', 'n_estimators': 700}\n"
     ]
    }
   ],
   "source": [
    "rfc = RandomForestClassifier()\n",
    "param_grid = { \n",
    "    'n_estimators': [200, 700],\n",
    "    'max_features': ['auto', 'sqrt', 'log2']\n",
    "}\n",
    "\n",
    "CV_rfc = GridSearchCV(estimator=rfc, param_grid=param_grid, cv= 5)\n",
    "CV_rfc.fit(X_train, y_train)\n",
    "print(CV_rfc.best_params_)"
   ]
  },
  {
   "cell_type": "code",
   "execution_count": 61,
   "metadata": {},
   "outputs": [
    {
     "name": "stdout",
     "output_type": "stream",
     "text": [
      "Model Name : GridSearchCV(cv=5, estimator=RandomForestClassifier(),\n",
      "             param_grid={'max_features': ['auto', 'sqrt', 'log2'],\n",
      "                         'n_estimators': [200, 700]})\n",
      "Training Score:  1.0\n",
      "Testing_score:  0.9958955223880597\n"
     ]
    }
   ],
   "source": [
    "pred2 = CV_rfc.predict(X_test)\n",
    "print('Model Name :', CV_rfc)\n",
    "print(\"Training Score: \", CV_rfc.score(X_train, y_train))\n",
    "print(\"Testing_score: \",accuracy_score(y_test,pred2))"
   ]
  },
  {
   "cell_type": "code",
   "execution_count": 67,
   "metadata": {},
   "outputs": [
    {
     "data": {
      "text/plain": [
       "['spaceserverdata.pkl']"
      ]
     },
     "execution_count": 67,
     "metadata": {},
     "output_type": "execute_result"
    }
   ],
   "source": [
    "# Saving the Best Model\n",
    "import joblib\n",
    "\n",
    "# Saving the model as a pickle in a file\n",
    "joblib.dump(CV_rfc,\"spaceserverdata.pkl\")"
   ]
  },
  {
   "cell_type": "code",
   "execution_count": null,
   "metadata": {},
   "outputs": [],
   "source": []
  }
 ],
 "metadata": {
  "kernelspec": {
   "display_name": "Python 3",
   "language": "python",
   "name": "python3"
  },
  "language_info": {
   "codemirror_mode": {
    "name": "ipython",
    "version": 3
   },
   "file_extension": ".py",
   "mimetype": "text/x-python",
   "name": "python",
   "nbconvert_exporter": "python",
   "pygments_lexer": "ipython3",
   "version": "3.8.3"
  }
 },
 "nbformat": 4,
 "nbformat_minor": 4
}
