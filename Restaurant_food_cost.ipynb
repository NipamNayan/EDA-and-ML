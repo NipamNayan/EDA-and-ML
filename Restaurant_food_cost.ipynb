{
 "cells": [
  {
   "cell_type": "code",
   "execution_count": 1,
   "metadata": {},
   "outputs": [],
   "source": [
    "# Importing Required Modules\n",
    "import pandas as pd\n",
    "import numpy as np\n",
    "import matplotlib.pyplot as plt\n",
    "import matplotlib as mpl\n",
    "import seaborn as sns\n",
    "%matplotlib inline"
   ]
  },
  {
   "cell_type": "code",
   "execution_count": 2,
   "metadata": {},
   "outputs": [],
   "source": [
    "from sklearn.preprocessing import LabelEncoder\n",
    "from sklearn.model_selection import train_test_split\n",
    "import warnings\n",
    "warnings.filterwarnings('ignore')"
   ]
  },
  {
   "cell_type": "code",
   "execution_count": 3,
   "metadata": {},
   "outputs": [
    {
     "data": {
      "text/plain": [
       "(12690, 9)"
      ]
     },
     "execution_count": 3,
     "metadata": {},
     "output_type": "execute_result"
    }
   ],
   "source": [
    "#Importing the Dataset\n",
    "df = pd.read_excel('Restaurant_food_cost/Data_Train.xlsx')\n",
    "df.shape"
   ]
  },
  {
   "cell_type": "code",
   "execution_count": 4,
   "metadata": {},
   "outputs": [
    {
     "data": {
      "text/plain": [
       "(4231, 8)"
      ]
     },
     "execution_count": 4,
     "metadata": {},
     "output_type": "execute_result"
    }
   ],
   "source": [
    "#Importing test Dataset\n",
    "df_test = pd.read_excel('Restaurant_food_cost/Data_Test.xlsx')\n",
    "df_test.shape"
   ]
  },
  {
   "cell_type": "code",
   "execution_count": 5,
   "metadata": {},
   "outputs": [
    {
     "data": {
      "text/html": [
       "<div>\n",
       "<style scoped>\n",
       "    .dataframe tbody tr th:only-of-type {\n",
       "        vertical-align: middle;\n",
       "    }\n",
       "\n",
       "    .dataframe tbody tr th {\n",
       "        vertical-align: top;\n",
       "    }\n",
       "\n",
       "    .dataframe thead th {\n",
       "        text-align: right;\n",
       "    }\n",
       "</style>\n",
       "<table border=\"1\" class=\"dataframe\">\n",
       "  <thead>\n",
       "    <tr style=\"text-align: right;\">\n",
       "      <th></th>\n",
       "      <th>TITLE</th>\n",
       "      <th>RESTAURANT_ID</th>\n",
       "      <th>CUISINES</th>\n",
       "      <th>TIME</th>\n",
       "      <th>CITY</th>\n",
       "      <th>LOCALITY</th>\n",
       "      <th>RATING</th>\n",
       "      <th>VOTES</th>\n",
       "      <th>COST</th>\n",
       "    </tr>\n",
       "  </thead>\n",
       "  <tbody>\n",
       "    <tr>\n",
       "      <th>0</th>\n",
       "      <td>CASUAL DINING</td>\n",
       "      <td>9438</td>\n",
       "      <td>Malwani, Goan, North Indian</td>\n",
       "      <td>11am – 4pm, 7:30pm – 11:30pm (Mon-Sun)</td>\n",
       "      <td>Thane</td>\n",
       "      <td>Dombivali East</td>\n",
       "      <td>3.6</td>\n",
       "      <td>49 votes</td>\n",
       "      <td>1200</td>\n",
       "    </tr>\n",
       "    <tr>\n",
       "      <th>1</th>\n",
       "      <td>CASUAL DINING,BAR</td>\n",
       "      <td>13198</td>\n",
       "      <td>Asian, Modern Indian, Japanese</td>\n",
       "      <td>6pm – 11pm (Mon-Sun)</td>\n",
       "      <td>Chennai</td>\n",
       "      <td>Ramapuram</td>\n",
       "      <td>4.2</td>\n",
       "      <td>30 votes</td>\n",
       "      <td>1500</td>\n",
       "    </tr>\n",
       "    <tr>\n",
       "      <th>2</th>\n",
       "      <td>CASUAL DINING</td>\n",
       "      <td>10915</td>\n",
       "      <td>North Indian, Chinese, Biryani, Hyderabadi</td>\n",
       "      <td>11am – 3:30pm, 7pm – 11pm (Mon-Sun)</td>\n",
       "      <td>Chennai</td>\n",
       "      <td>Saligramam</td>\n",
       "      <td>3.8</td>\n",
       "      <td>221 votes</td>\n",
       "      <td>800</td>\n",
       "    </tr>\n",
       "    <tr>\n",
       "      <th>3</th>\n",
       "      <td>QUICK BITES</td>\n",
       "      <td>6346</td>\n",
       "      <td>Tibetan, Chinese</td>\n",
       "      <td>11:30am – 1am (Mon-Sun)</td>\n",
       "      <td>Mumbai</td>\n",
       "      <td>Bandra West</td>\n",
       "      <td>4.1</td>\n",
       "      <td>24 votes</td>\n",
       "      <td>800</td>\n",
       "    </tr>\n",
       "    <tr>\n",
       "      <th>4</th>\n",
       "      <td>DESSERT PARLOR</td>\n",
       "      <td>15387</td>\n",
       "      <td>Desserts</td>\n",
       "      <td>11am – 1am (Mon-Sun)</td>\n",
       "      <td>Mumbai</td>\n",
       "      <td>Lower Parel</td>\n",
       "      <td>3.8</td>\n",
       "      <td>165 votes</td>\n",
       "      <td>300</td>\n",
       "    </tr>\n",
       "  </tbody>\n",
       "</table>\n",
       "</div>"
      ],
      "text/plain": [
       "               TITLE  RESTAURANT_ID  \\\n",
       "0      CASUAL DINING           9438   \n",
       "1  CASUAL DINING,BAR          13198   \n",
       "2      CASUAL DINING          10915   \n",
       "3        QUICK BITES           6346   \n",
       "4     DESSERT PARLOR          15387   \n",
       "\n",
       "                                     CUISINES  \\\n",
       "0                 Malwani, Goan, North Indian   \n",
       "1              Asian, Modern Indian, Japanese   \n",
       "2  North Indian, Chinese, Biryani, Hyderabadi   \n",
       "3                            Tibetan, Chinese   \n",
       "4                                    Desserts   \n",
       "\n",
       "                                     TIME     CITY        LOCALITY RATING  \\\n",
       "0  11am – 4pm, 7:30pm – 11:30pm (Mon-Sun)    Thane  Dombivali East    3.6   \n",
       "1                    6pm – 11pm (Mon-Sun)  Chennai       Ramapuram    4.2   \n",
       "2     11am – 3:30pm, 7pm – 11pm (Mon-Sun)  Chennai      Saligramam    3.8   \n",
       "3                 11:30am – 1am (Mon-Sun)   Mumbai     Bandra West    4.1   \n",
       "4                    11am – 1am (Mon-Sun)   Mumbai     Lower Parel    3.8   \n",
       "\n",
       "       VOTES  COST  \n",
       "0   49 votes  1200  \n",
       "1   30 votes  1500  \n",
       "2  221 votes   800  \n",
       "3   24 votes   800  \n",
       "4  165 votes   300  "
      ]
     },
     "execution_count": 5,
     "metadata": {},
     "output_type": "execute_result"
    }
   ],
   "source": [
    "df.head()"
   ]
  },
  {
   "cell_type": "code",
   "execution_count": 6,
   "metadata": {},
   "outputs": [
    {
     "name": "stdout",
     "output_type": "stream",
     "text": [
      "<class 'pandas.core.frame.DataFrame'>\n",
      "RangeIndex: 12690 entries, 0 to 12689\n",
      "Data columns (total 9 columns):\n",
      " #   Column         Non-Null Count  Dtype \n",
      "---  ------         --------------  ----- \n",
      " 0   TITLE          12690 non-null  object\n",
      " 1   RESTAURANT_ID  12690 non-null  int64 \n",
      " 2   CUISINES       12690 non-null  object\n",
      " 3   TIME           12690 non-null  object\n",
      " 4   CITY           12578 non-null  object\n",
      " 5   LOCALITY       12592 non-null  object\n",
      " 6   RATING         12688 non-null  object\n",
      " 7   VOTES          11486 non-null  object\n",
      " 8   COST           12690 non-null  int64 \n",
      "dtypes: int64(2), object(7)\n",
      "memory usage: 892.4+ KB\n"
     ]
    }
   ],
   "source": [
    "df.info()"
   ]
  },
  {
   "cell_type": "code",
   "execution_count": 7,
   "metadata": {},
   "outputs": [
    {
     "data": {
      "text/html": [
       "<div>\n",
       "<style scoped>\n",
       "    .dataframe tbody tr th:only-of-type {\n",
       "        vertical-align: middle;\n",
       "    }\n",
       "\n",
       "    .dataframe tbody tr th {\n",
       "        vertical-align: top;\n",
       "    }\n",
       "\n",
       "    .dataframe thead th {\n",
       "        text-align: right;\n",
       "    }\n",
       "</style>\n",
       "<table border=\"1\" class=\"dataframe\">\n",
       "  <thead>\n",
       "    <tr style=\"text-align: right;\">\n",
       "      <th></th>\n",
       "      <th>RESTAURANT_ID</th>\n",
       "      <th>COST</th>\n",
       "    </tr>\n",
       "  </thead>\n",
       "  <tbody>\n",
       "    <tr>\n",
       "      <th>count</th>\n",
       "      <td>12690.000000</td>\n",
       "      <td>12690.000000</td>\n",
       "    </tr>\n",
       "    <tr>\n",
       "      <th>mean</th>\n",
       "      <td>7759.134121</td>\n",
       "      <td>655.252246</td>\n",
       "    </tr>\n",
       "    <tr>\n",
       "      <th>std</th>\n",
       "      <td>4504.874150</td>\n",
       "      <td>627.003540</td>\n",
       "    </tr>\n",
       "    <tr>\n",
       "      <th>min</th>\n",
       "      <td>0.000000</td>\n",
       "      <td>20.000000</td>\n",
       "    </tr>\n",
       "    <tr>\n",
       "      <th>25%</th>\n",
       "      <td>3863.250000</td>\n",
       "      <td>300.000000</td>\n",
       "    </tr>\n",
       "    <tr>\n",
       "      <th>50%</th>\n",
       "      <td>7740.000000</td>\n",
       "      <td>500.000000</td>\n",
       "    </tr>\n",
       "    <tr>\n",
       "      <th>75%</th>\n",
       "      <td>11688.750000</td>\n",
       "      <td>800.000000</td>\n",
       "    </tr>\n",
       "    <tr>\n",
       "      <th>max</th>\n",
       "      <td>15573.000000</td>\n",
       "      <td>14000.000000</td>\n",
       "    </tr>\n",
       "  </tbody>\n",
       "</table>\n",
       "</div>"
      ],
      "text/plain": [
       "       RESTAURANT_ID          COST\n",
       "count   12690.000000  12690.000000\n",
       "mean     7759.134121    655.252246\n",
       "std      4504.874150    627.003540\n",
       "min         0.000000     20.000000\n",
       "25%      3863.250000    300.000000\n",
       "50%      7740.000000    500.000000\n",
       "75%     11688.750000    800.000000\n",
       "max     15573.000000  14000.000000"
      ]
     },
     "execution_count": 7,
     "metadata": {},
     "output_type": "execute_result"
    }
   ],
   "source": [
    "df.describe()"
   ]
  },
  {
   "cell_type": "code",
   "execution_count": 8,
   "metadata": {},
   "outputs": [
    {
     "data": {
      "text/plain": [
       "TITLE               0\n",
       "RESTAURANT_ID       0\n",
       "CUISINES            0\n",
       "TIME                0\n",
       "CITY              112\n",
       "LOCALITY           98\n",
       "RATING              2\n",
       "VOTES            1204\n",
       "COST                0\n",
       "dtype: int64"
      ]
     },
     "execution_count": 8,
     "metadata": {},
     "output_type": "execute_result"
    }
   ],
   "source": [
    "df.isnull().sum()"
   ]
  },
  {
   "cell_type": "markdown",
   "metadata": {},
   "source": [
    "All the columns having empty values are qualitative. Hence have to impute them with mode"
   ]
  },
  {
   "cell_type": "code",
   "execution_count": 9,
   "metadata": {},
   "outputs": [
    {
     "data": {
      "text/plain": [
       "<matplotlib.axes._subplots.AxesSubplot at 0x209209fc9d0>"
      ]
     },
     "execution_count": 9,
     "metadata": {},
     "output_type": "execute_result"
    },
    {
     "data": {
      "image/png": "[encoded data removed]",
      "text/plain": [
       "<Figure size 432x288 with 1 Axes>"
      ]
     },
     "metadata": {
      "needs_background": "light"
     },
     "output_type": "display_data"
    }
   ],
   "source": [
    "sns.boxplot(x=df['COST'])"
   ]
  },
  {
   "cell_type": "markdown",
   "metadata": {},
   "source": [
    "Lots of outliers are there in the data."
   ]
  },
  {
   "cell_type": "code",
   "execution_count": 73,
   "metadata": {},
   "outputs": [
    {
     "data": {
      "text/plain": [
       "TITLE              113\n",
       "RESTAURANT_ID    11892\n",
       "CUISINES          4155\n",
       "TIME              2689\n",
       "CITY               359\n",
       "LOCALITY          1416\n",
       "RATING              32\n",
       "VOTES             1847\n",
       "COST                86\n",
       "dtype: int64"
      ]
     },
     "execution_count": 73,
     "metadata": {},
     "output_type": "execute_result"
    }
   ],
   "source": [
    "df.nunique()"
   ]
  },
  {
   "cell_type": "code",
   "execution_count": 10,
   "metadata": {},
   "outputs": [],
   "source": [
    "df_ml = df.copy()\n",
    "test = df_test.copy()"
   ]
  },
  {
   "cell_type": "code",
   "execution_count": 11,
   "metadata": {},
   "outputs": [
    {
     "data": {
      "text/html": [
       "<div>\n",
       "<style scoped>\n",
       "    .dataframe tbody tr th:only-of-type {\n",
       "        vertical-align: middle;\n",
       "    }\n",
       "\n",
       "    .dataframe tbody tr th {\n",
       "        vertical-align: top;\n",
       "    }\n",
       "\n",
       "    .dataframe thead th {\n",
       "        text-align: right;\n",
       "    }\n",
       "</style>\n",
       "<table border=\"1\" class=\"dataframe\">\n",
       "  <thead>\n",
       "    <tr style=\"text-align: right;\">\n",
       "      <th></th>\n",
       "      <th>TITLE</th>\n",
       "      <th>RESTAURANT_ID</th>\n",
       "      <th>CUISINES</th>\n",
       "      <th>TIME</th>\n",
       "      <th>CITY</th>\n",
       "      <th>LOCALITY</th>\n",
       "      <th>RATING</th>\n",
       "      <th>VOTES</th>\n",
       "      <th>COST</th>\n",
       "    </tr>\n",
       "  </thead>\n",
       "  <tbody>\n",
       "    <tr>\n",
       "      <th>0</th>\n",
       "      <td>CASUAL DINING</td>\n",
       "      <td>9438</td>\n",
       "      <td>Malwani, Goan, North Indian</td>\n",
       "      <td>11am – 4pm, 7:30pm – 11:30pm (Mon-Sun)</td>\n",
       "      <td>Thane</td>\n",
       "      <td>Dombivali East</td>\n",
       "      <td>3.6</td>\n",
       "      <td>49 votes</td>\n",
       "      <td>1200</td>\n",
       "    </tr>\n",
       "    <tr>\n",
       "      <th>1</th>\n",
       "      <td>CASUAL DINING,BAR</td>\n",
       "      <td>13198</td>\n",
       "      <td>Asian, Modern Indian, Japanese</td>\n",
       "      <td>6pm – 11pm (Mon-Sun)</td>\n",
       "      <td>Chennai</td>\n",
       "      <td>Ramapuram</td>\n",
       "      <td>4.2</td>\n",
       "      <td>30 votes</td>\n",
       "      <td>1500</td>\n",
       "    </tr>\n",
       "    <tr>\n",
       "      <th>2</th>\n",
       "      <td>CASUAL DINING</td>\n",
       "      <td>10915</td>\n",
       "      <td>North Indian, Chinese, Biryani, Hyderabadi</td>\n",
       "      <td>11am – 3:30pm, 7pm – 11pm (Mon-Sun)</td>\n",
       "      <td>Chennai</td>\n",
       "      <td>Saligramam</td>\n",
       "      <td>3.8</td>\n",
       "      <td>221 votes</td>\n",
       "      <td>800</td>\n",
       "    </tr>\n",
       "    <tr>\n",
       "      <th>3</th>\n",
       "      <td>QUICK BITES</td>\n",
       "      <td>6346</td>\n",
       "      <td>Tibetan, Chinese</td>\n",
       "      <td>11:30am – 1am (Mon-Sun)</td>\n",
       "      <td>Mumbai</td>\n",
       "      <td>Bandra West</td>\n",
       "      <td>4.1</td>\n",
       "      <td>24 votes</td>\n",
       "      <td>800</td>\n",
       "    </tr>\n",
       "    <tr>\n",
       "      <th>4</th>\n",
       "      <td>DESSERT PARLOR</td>\n",
       "      <td>15387</td>\n",
       "      <td>Desserts</td>\n",
       "      <td>11am – 1am (Mon-Sun)</td>\n",
       "      <td>Mumbai</td>\n",
       "      <td>Lower Parel</td>\n",
       "      <td>3.8</td>\n",
       "      <td>165 votes</td>\n",
       "      <td>300</td>\n",
       "    </tr>\n",
       "  </tbody>\n",
       "</table>\n",
       "</div>"
      ],
      "text/plain": [
       "               TITLE  RESTAURANT_ID  \\\n",
       "0      CASUAL DINING           9438   \n",
       "1  CASUAL DINING,BAR          13198   \n",
       "2      CASUAL DINING          10915   \n",
       "3        QUICK BITES           6346   \n",
       "4     DESSERT PARLOR          15387   \n",
       "\n",
       "                                     CUISINES  \\\n",
       "0                 Malwani, Goan, North Indian   \n",
       "1              Asian, Modern Indian, Japanese   \n",
       "2  North Indian, Chinese, Biryani, Hyderabadi   \n",
       "3                            Tibetan, Chinese   \n",
       "4                                    Desserts   \n",
       "\n",
       "                                     TIME     CITY        LOCALITY RATING  \\\n",
       "0  11am – 4pm, 7:30pm – 11:30pm (Mon-Sun)    Thane  Dombivali East    3.6   \n",
       "1                    6pm – 11pm (Mon-Sun)  Chennai       Ramapuram    4.2   \n",
       "2     11am – 3:30pm, 7pm – 11pm (Mon-Sun)  Chennai      Saligramam    3.8   \n",
       "3                 11:30am – 1am (Mon-Sun)   Mumbai     Bandra West    4.1   \n",
       "4                    11am – 1am (Mon-Sun)   Mumbai     Lower Parel    3.8   \n",
       "\n",
       "       VOTES  COST  \n",
       "0   49 votes  1200  \n",
       "1   30 votes  1500  \n",
       "2  221 votes   800  \n",
       "3   24 votes   800  \n",
       "4  165 votes   300  "
      ]
     },
     "execution_count": 11,
     "metadata": {},
     "output_type": "execute_result"
    }
   ],
   "source": [
    "df_ml.head()"
   ]
  },
  {
   "cell_type": "code",
   "execution_count": 12,
   "metadata": {},
   "outputs": [],
   "source": [
    "#Dropping the unnecessary columns"
   ]
  },
  {
   "cell_type": "code",
   "execution_count": 13,
   "metadata": {},
   "outputs": [],
   "source": [
    "#Using Label encoder to convert  from categorical to Numeric\n",
    "from sklearn.preprocessing import LabelEncoder\n",
    "lbl=LabelEncoder()"
   ]
  },
  {
   "cell_type": "code",
   "execution_count": 14,
   "metadata": {},
   "outputs": [
    {
     "data": {
      "text/plain": [
       "Index(['TITLE', 'CUISINES', 'TIME', 'CITY', 'LOCALITY', 'RATING', 'VOTES'], dtype='object')"
      ]
     },
     "execution_count": 14,
     "metadata": {},
     "output_type": "execute_result"
    }
   ],
   "source": [
    "df_ml.columns[df_ml.dtypes == object]   # All the Categorical variables"
   ]
  },
  {
   "cell_type": "code",
   "execution_count": 15,
   "metadata": {},
   "outputs": [
    {
     "data": {
      "text/plain": [
       "TITLE              113\n",
       "RESTAURANT_ID    11892\n",
       "CUISINES          4155\n",
       "TIME              2689\n",
       "CITY               359\n",
       "LOCALITY          1416\n",
       "RATING              32\n",
       "VOTES             1847\n",
       "COST                86\n",
       "dtype: int64"
      ]
     },
     "execution_count": 15,
     "metadata": {},
     "output_type": "execute_result"
    }
   ],
   "source": [
    "df_ml.nunique()"
   ]
  },
  {
   "cell_type": "markdown",
   "metadata": {},
   "source": [
    "## Preprocessing for Train as well as Test Data "
   ]
  },
  {
   "cell_type": "code",
   "execution_count": 16,
   "metadata": {},
   "outputs": [],
   "source": [
    "# Fitting the data from both train and test after that transforming them\n",
    "lbl.fit(list(df_ml['TITLE'].astype(str))+list(test['TITLE'].astype(str)))\n",
    "df_ml['TITLE'] = lbl.transform(df_ml['TITLE'].astype(str))\n",
    "test['TITLE'] = lbl.transform(test['TITLE'].astype(str))\n",
    "\n",
    "lbl.fit(list(df_ml['CUISINES'].astype(str))+list(test['CUISINES'].astype(str)))\n",
    "df_ml['CUISINES'] = lbl.transform(df_ml['CUISINES'].astype(str))\n",
    "test['CUISINES'] = lbl.transform(test['CUISINES'].astype(str))\n",
    "\n",
    "lbl.fit(list(df_ml['TIME'].astype(str))+list(test['TIME'].astype(str)))\n",
    "df_ml['TIME'] = lbl.transform(df_ml['TIME'].astype(str))\n",
    "test['TIME'] = lbl.transform(test['TIME'].astype(str))\n",
    "\n",
    "lbl.fit(list(df_ml['CITY'].astype(str))+list(test['CITY'].astype(str)))\n",
    "df_ml['CITY'] = lbl.transform(df_ml['CITY'].astype(str))\n",
    "test['CITY'] = lbl.transform(test['CITY'].astype(str))\n",
    "\n",
    "lbl.fit(list(df_ml['LOCALITY'].astype(str))+list(test['LOCALITY'].astype(str)))\n",
    "df_ml['LOCALITY'] = lbl.transform(df_ml['LOCALITY'].astype(str))\n",
    "test['LOCALITY'] = lbl.transform(test['LOCALITY'].astype(str))"
   ]
  },
  {
   "cell_type": "code",
   "execution_count": 17,
   "metadata": {},
   "outputs": [
    {
     "data": {
      "text/plain": [
       "array(['3.6', '4.2', '3.8', '4.1', '4.0', '4.3', '3.9', '3.3', '3.4', '-',\n",
       "       '4.5', '3.5', '4.4', '2.7', '3.7', '4.7', 'NEW', '3.1', '2.5',\n",
       "       '4.6', '2.8', nan, '3.0', '3.2', '2.6', '2.9', '4.9', '4.8', '2.4',\n",
       "       '2.3', '2.0', '2.1', '2.2'], dtype=object)"
      ]
     },
     "execution_count": 17,
     "metadata": {},
     "output_type": "execute_result"
    }
   ],
   "source": [
    "df_ml.RATING.unique()"
   ]
  },
  {
   "cell_type": "code",
   "execution_count": 18,
   "metadata": {},
   "outputs": [],
   "source": [
    "# Replacing symbols with nan\n",
    "df_ml.RATING = df_ml.RATING.replace(to_replace='-', value=np.nan)\n",
    "df_ml.RATING = df_ml.RATING.replace(to_replace= 'NEW', value=np.nan)"
   ]
  },
  {
   "cell_type": "code",
   "execution_count": 19,
   "metadata": {},
   "outputs": [],
   "source": [
    "df_ml.RATING = df_ml.RATING.astype(float)"
   ]
  },
  {
   "cell_type": "code",
   "execution_count": 20,
   "metadata": {},
   "outputs": [],
   "source": [
    "# Replacing symbols with nan\n",
    "test.RATING = test.RATING.replace(to_replace='-', value=np.nan)\n",
    "test.RATING = test.RATING.replace(to_replace= 'NEW', value=np.nan)"
   ]
  },
  {
   "cell_type": "code",
   "execution_count": 21,
   "metadata": {},
   "outputs": [],
   "source": [
    "test.RATING = test.RATING.astype(float)"
   ]
  },
  {
   "cell_type": "code",
   "execution_count": 22,
   "metadata": {},
   "outputs": [
    {
     "data": {
      "text/plain": [
       "TITLE               0\n",
       "RESTAURANT_ID       0\n",
       "CUISINES            0\n",
       "TIME                0\n",
       "CITY                0\n",
       "LOCALITY            0\n",
       "RATING           1204\n",
       "VOTES            1204\n",
       "COST                0\n",
       "dtype: int64"
      ]
     },
     "execution_count": 22,
     "metadata": {},
     "output_type": "execute_result"
    }
   ],
   "source": [
    "df_ml.isnull().sum()"
   ]
  },
  {
   "cell_type": "code",
   "execution_count": 23,
   "metadata": {},
   "outputs": [],
   "source": [
    "df_ml.RATING = df_ml.RATING.fillna(df_ml.RATING.mean())"
   ]
  },
  {
   "cell_type": "code",
   "execution_count": 24,
   "metadata": {},
   "outputs": [],
   "source": [
    "test.RATING = test.RATING.fillna(test.RATING.mean())"
   ]
  },
  {
   "cell_type": "code",
   "execution_count": 25,
   "metadata": {},
   "outputs": [
    {
     "data": {
      "text/plain": [
       "array(['49 votes', '30 votes', '221 votes', ..., '2723 votes',\n",
       "       '1426 votes', '1214 votes'], dtype=object)"
      ]
     },
     "execution_count": 25,
     "metadata": {},
     "output_type": "execute_result"
    }
   ],
   "source": [
    "df_ml.VOTES.unique()"
   ]
  },
  {
   "cell_type": "code",
   "execution_count": 26,
   "metadata": {},
   "outputs": [
    {
     "data": {
      "text/html": [
       "<div>\n",
       "<style scoped>\n",
       "    .dataframe tbody tr th:only-of-type {\n",
       "        vertical-align: middle;\n",
       "    }\n",
       "\n",
       "    .dataframe tbody tr th {\n",
       "        vertical-align: top;\n",
       "    }\n",
       "\n",
       "    .dataframe thead th {\n",
       "        text-align: right;\n",
       "    }\n",
       "</style>\n",
       "<table border=\"1\" class=\"dataframe\">\n",
       "  <thead>\n",
       "    <tr style=\"text-align: right;\">\n",
       "      <th></th>\n",
       "      <th>TITLE</th>\n",
       "      <th>RESTAURANT_ID</th>\n",
       "      <th>CUISINES</th>\n",
       "      <th>TIME</th>\n",
       "      <th>CITY</th>\n",
       "      <th>LOCALITY</th>\n",
       "      <th>RATING</th>\n",
       "      <th>VOTES</th>\n",
       "      <th>COST</th>\n",
       "    </tr>\n",
       "  </thead>\n",
       "  <tbody>\n",
       "    <tr>\n",
       "      <th>0</th>\n",
       "      <td>34</td>\n",
       "      <td>9438</td>\n",
       "      <td>3294</td>\n",
       "      <td>898</td>\n",
       "      <td>400</td>\n",
       "      <td>328</td>\n",
       "      <td>3.6</td>\n",
       "      <td>49 votes</td>\n",
       "      <td>1200</td>\n",
       "    </tr>\n",
       "    <tr>\n",
       "      <th>1</th>\n",
       "      <td>36</td>\n",
       "      <td>13198</td>\n",
       "      <td>364</td>\n",
       "      <td>2301</td>\n",
       "      <td>75</td>\n",
       "      <td>1214</td>\n",
       "      <td>4.2</td>\n",
       "      <td>30 votes</td>\n",
       "      <td>1500</td>\n",
       "    </tr>\n",
       "    <tr>\n",
       "      <th>2</th>\n",
       "      <td>34</td>\n",
       "      <td>10915</td>\n",
       "      <td>3729</td>\n",
       "      <td>806</td>\n",
       "      <td>75</td>\n",
       "      <td>1272</td>\n",
       "      <td>3.8</td>\n",
       "      <td>221 votes</td>\n",
       "      <td>800</td>\n",
       "    </tr>\n",
       "    <tr>\n",
       "      <th>3</th>\n",
       "      <td>104</td>\n",
       "      <td>6346</td>\n",
       "      <td>5156</td>\n",
       "      <td>340</td>\n",
       "      <td>277</td>\n",
       "      <td>161</td>\n",
       "      <td>4.1</td>\n",
       "      <td>24 votes</td>\n",
       "      <td>800</td>\n",
       "    </tr>\n",
       "    <tr>\n",
       "      <th>4</th>\n",
       "      <td>55</td>\n",
       "      <td>15387</td>\n",
       "      <td>2218</td>\n",
       "      <td>750</td>\n",
       "      <td>277</td>\n",
       "      <td>709</td>\n",
       "      <td>3.8</td>\n",
       "      <td>165 votes</td>\n",
       "      <td>300</td>\n",
       "    </tr>\n",
       "    <tr>\n",
       "      <th>...</th>\n",
       "      <td>...</td>\n",
       "      <td>...</td>\n",
       "      <td>...</td>\n",
       "      <td>...</td>\n",
       "      <td>...</td>\n",
       "      <td>...</td>\n",
       "      <td>...</td>\n",
       "      <td>...</td>\n",
       "      <td>...</td>\n",
       "    </tr>\n",
       "    <tr>\n",
       "      <th>12685</th>\n",
       "      <td>104</td>\n",
       "      <td>13228</td>\n",
       "      <td>3676</td>\n",
       "      <td>1401</td>\n",
       "      <td>160</td>\n",
       "      <td>395</td>\n",
       "      <td>3.8</td>\n",
       "      <td>546 votes</td>\n",
       "      <td>500</td>\n",
       "    </tr>\n",
       "    <tr>\n",
       "      <th>12686</th>\n",
       "      <td>36</td>\n",
       "      <td>9686</td>\n",
       "      <td>2684</td>\n",
       "      <td>1445</td>\n",
       "      <td>277</td>\n",
       "      <td>158</td>\n",
       "      <td>4.3</td>\n",
       "      <td>1214 votes</td>\n",
       "      <td>1800</td>\n",
       "    </tr>\n",
       "    <tr>\n",
       "      <th>12687</th>\n",
       "      <td>79</td>\n",
       "      <td>11133</td>\n",
       "      <td>2617</td>\n",
       "      <td>1391</td>\n",
       "      <td>300</td>\n",
       "      <td>1548</td>\n",
       "      <td>4.0</td>\n",
       "      <td>608 votes</td>\n",
       "      <td>1300</td>\n",
       "    </tr>\n",
       "    <tr>\n",
       "      <th>12688</th>\n",
       "      <td>34</td>\n",
       "      <td>6134</td>\n",
       "      <td>4400</td>\n",
       "      <td>2244</td>\n",
       "      <td>75</td>\n",
       "      <td>720</td>\n",
       "      <td>3.5</td>\n",
       "      <td>32 votes</td>\n",
       "      <td>400</td>\n",
       "    </tr>\n",
       "    <tr>\n",
       "      <th>12689</th>\n",
       "      <td>34</td>\n",
       "      <td>6430</td>\n",
       "      <td>3690</td>\n",
       "      <td>1013</td>\n",
       "      <td>160</td>\n",
       "      <td>1539</td>\n",
       "      <td>3.4</td>\n",
       "      <td>677 votes</td>\n",
       "      <td>600</td>\n",
       "    </tr>\n",
       "  </tbody>\n",
       "</table>\n",
       "<p>12690 rows × 9 columns</p>\n",
       "</div>"
      ],
      "text/plain": [
       "       TITLE  RESTAURANT_ID  CUISINES  TIME  CITY  LOCALITY  RATING  \\\n",
       "0         34           9438      3294   898   400       328     3.6   \n",
       "1         36          13198       364  2301    75      1214     4.2   \n",
       "2         34          10915      3729   806    75      1272     3.8   \n",
       "3        104           6346      5156   340   277       161     4.1   \n",
       "4         55          15387      2218   750   277       709     3.8   \n",
       "...      ...            ...       ...   ...   ...       ...     ...   \n",
       "12685    104          13228      3676  1401   160       395     3.8   \n",
       "12686     36           9686      2684  1445   277       158     4.3   \n",
       "12687     79          11133      2617  1391   300      1548     4.0   \n",
       "12688     34           6134      4400  2244    75       720     3.5   \n",
       "12689     34           6430      3690  1013   160      1539     3.4   \n",
       "\n",
       "            VOTES  COST  \n",
       "0        49 votes  1200  \n",
       "1        30 votes  1500  \n",
       "2       221 votes   800  \n",
       "3        24 votes   800  \n",
       "4       165 votes   300  \n",
       "...           ...   ...  \n",
       "12685   546 votes   500  \n",
       "12686  1214 votes  1800  \n",
       "12687   608 votes  1300  \n",
       "12688    32 votes   400  \n",
       "12689   677 votes   600  \n",
       "\n",
       "[12690 rows x 9 columns]"
      ]
     },
     "execution_count": 26,
     "metadata": {},
     "output_type": "execute_result"
    }
   ],
   "source": [
    "df_ml"
   ]
  },
  {
   "cell_type": "code",
   "execution_count": 27,
   "metadata": {},
   "outputs": [],
   "source": [
    "# Preprocessing the Column votes into numbers by removing string 'votes'\n",
    "votes = []\n",
    "for i in list(df_ml.VOTES):\n",
    "    if type(i) == str:\n",
    "        k = float(i.strip(' votes'))\n",
    "    else:\n",
    "        k = i\n",
    "    votes.append(k)"
   ]
  },
  {
   "cell_type": "code",
   "execution_count": 28,
   "metadata": {},
   "outputs": [],
   "source": [
    "df_ml.VOTES = votes"
   ]
  },
  {
   "cell_type": "code",
   "execution_count": 29,
   "metadata": {},
   "outputs": [],
   "source": [
    "votes2 = []\n",
    "for i in list(test.VOTES):\n",
    "    if type(i) == str:\n",
    "        k = float(i.strip(' votes'))\n",
    "    else:\n",
    "        k = i\n",
    "    votes2.append(k)"
   ]
  },
  {
   "cell_type": "code",
   "execution_count": 30,
   "metadata": {},
   "outputs": [],
   "source": [
    "test.VOTES = votes2"
   ]
  },
  {
   "cell_type": "code",
   "execution_count": 31,
   "metadata": {},
   "outputs": [],
   "source": [
    "df_ml.VOTES = df_ml.VOTES.fillna(df_ml.VOTES.mean())"
   ]
  },
  {
   "cell_type": "code",
   "execution_count": 32,
   "metadata": {},
   "outputs": [],
   "source": [
    "test.VOTES = test.VOTES.fillna(test.VOTES.mean())"
   ]
  },
  {
   "cell_type": "code",
   "execution_count": 34,
   "metadata": {},
   "outputs": [
    {
     "name": "stdout",
     "output_type": "stream",
     "text": [
      "<class 'pandas.core.frame.DataFrame'>\n",
      "RangeIndex: 12690 entries, 0 to 12689\n",
      "Data columns (total 9 columns):\n",
      " #   Column         Non-Null Count  Dtype  \n",
      "---  ------         --------------  -----  \n",
      " 0   TITLE          12690 non-null  int32  \n",
      " 1   RESTAURANT_ID  12690 non-null  int64  \n",
      " 2   CUISINES       12690 non-null  int32  \n",
      " 3   TIME           12690 non-null  int32  \n",
      " 4   CITY           12690 non-null  int32  \n",
      " 5   LOCALITY       12690 non-null  int32  \n",
      " 6   RATING         12690 non-null  float64\n",
      " 7   VOTES          12690 non-null  float64\n",
      " 8   COST           12690 non-null  int64  \n",
      "dtypes: float64(2), int32(5), int64(2)\n",
      "memory usage: 644.5 KB\n"
     ]
    }
   ],
   "source": [
    "df_ml.info()"
   ]
  },
  {
   "cell_type": "code",
   "execution_count": 35,
   "metadata": {},
   "outputs": [
    {
     "name": "stdout",
     "output_type": "stream",
     "text": [
      "<class 'pandas.core.frame.DataFrame'>\n",
      "RangeIndex: 4231 entries, 0 to 4230\n",
      "Data columns (total 8 columns):\n",
      " #   Column         Non-Null Count  Dtype  \n",
      "---  ------         --------------  -----  \n",
      " 0   TITLE          4231 non-null   int32  \n",
      " 1   RESTAURANT_ID  4231 non-null   int64  \n",
      " 2   CUISINES       4231 non-null   int32  \n",
      " 3   TIME           4231 non-null   int32  \n",
      " 4   CITY           4231 non-null   int32  \n",
      " 5   LOCALITY       4231 non-null   int32  \n",
      " 6   RATING         4231 non-null   float64\n",
      " 7   VOTES          4231 non-null   float64\n",
      "dtypes: float64(2), int32(5), int64(1)\n",
      "memory usage: 181.9 KB\n"
     ]
    }
   ],
   "source": [
    "test.info()"
   ]
  },
  {
   "cell_type": "markdown",
   "metadata": {},
   "source": [
    "Restaurant_ID is not required for ML model"
   ]
  },
  {
   "cell_type": "code",
   "execution_count": 36,
   "metadata": {},
   "outputs": [],
   "source": [
    "df_ml = df_ml.drop('RESTAURANT_ID',axis=1)\n",
    "test = test.drop('RESTAURANT_ID',axis=1)"
   ]
  },
  {
   "cell_type": "markdown",
   "metadata": {},
   "source": [
    "### Dealing with outliers"
   ]
  },
  {
   "cell_type": "markdown",
   "metadata": {},
   "source": [
    "Now, we have converted all the data into numbers we can deal with outliers using z-score"
   ]
  },
  {
   "cell_type": "code",
   "execution_count": 37,
   "metadata": {},
   "outputs": [
    {
     "name": "stdout",
     "output_type": "stream",
     "text": [
      "[[0.86695351 0.32682135 0.59310216 ... 0.46184081 0.45735622 0.86884552]\n",
      " [0.81115705 1.61282987 0.92653179 ... 1.03237172 0.48105544 1.34733058]\n",
      " [0.86695351 0.61479004 0.69275029 ... 0.03623004 0.24281588 0.23086546]\n",
      " ...\n",
      " [0.38846695 0.12135062 0.05911817 ... 0.53430088 0.23989988 1.02834054]\n",
      " [0.86695351 1.05899003 0.86479328 ... 0.71087623 0.47856079 0.40711461]\n",
      " [0.86695351 0.58897216 0.468542   ... 0.95991165 0.32596548 0.08812458]]\n"
     ]
    }
   ],
   "source": [
    "from scipy import stats\n",
    "z = np.abs(stats.zscore(df_ml))\n",
    "print(z)"
   ]
  },
  {
   "cell_type": "code",
   "execution_count": 38,
   "metadata": {},
   "outputs": [
    {
     "name": "stdout",
     "output_type": "stream",
     "text": [
      "(array([   84,   159,   186,   196,   208,   293,   303,   304,   308,\n",
      "         337,   344,   354,   379,   422,   431,   469,   502,   510,\n",
      "         563,   599,   672,   731,   775,   796,   839,   852,   855,\n",
      "         872,   913,   966,   967,   973,  1008,  1020,  1034,  1038,\n",
      "        1132,  1133,  1147,  1151,  1193,  1244,  1288,  1345,  1346,\n",
      "        1395,  1467,  1470,  1475,  1476,  1522,  1540,  1594,  1617,\n",
      "        1632,  1657,  1681,  1685,  1759,  1773,  1778,  1816,  1828,\n",
      "        1850,  1878,  1884,  1916,  1930,  1931,  1973,  2068,  2090,\n",
      "        2100,  2111,  2188,  2204,  2205,  2207,  2268,  2302,  2305,\n",
      "        2333,  2339,  2349,  2369,  2459,  2488,  2531,  2604,  2610,\n",
      "        2622,  2683,  2686,  2689,  2695,  2740,  2778,  2886,  2905,\n",
      "        2921,  2940,  2969,  2973,  2977,  3002,  3028,  3033,  3036,\n",
      "        3049,  3170,  3197,  3206,  3211,  3289,  3309,  3333,  3338,\n",
      "        3396,  3397,  3398,  3408,  3483,  3491,  3492,  3507,  3526,\n",
      "        3528,  3532,  3554,  3578,  3587,  3603,  3688,  3692,  3704,\n",
      "        3706,  3715,  3728,  3730,  3773,  3841,  3847,  3855,  3877,\n",
      "        3891,  3896,  3905,  3909,  3942,  3952,  3953,  3962,  3974,\n",
      "        3987,  4042,  4124,  4147,  4152,  4192,  4193,  4224,  4268,\n",
      "        4273,  4279,  4285,  4298,  4315,  4323,  4367,  4391,  4401,\n",
      "        4409,  4470,  4494,  4512,  4524,  4554,  4557,  4558,  4563,\n",
      "        4578,  4592,  4618,  4628,  4634,  4647,  4658,  4659,  4691,\n",
      "        4693,  4708,  4709,  4728,  4760,  4768,  4855,  4904,  4931,\n",
      "        4947,  4987,  5012,  5078,  5098,  5108,  5133,  5140,  5173,\n",
      "        5202,  5257,  5264,  5375,  5401,  5492,  5502,  5531,  5588,\n",
      "        5590,  5594,  5629,  5662,  5682,  5774,  5792,  5836,  5841,\n",
      "        5843,  5874,  5880,  5897,  5934,  5944,  5947,  5969,  5975,\n",
      "        5996,  6005,  6024,  6136,  6142,  6147,  6303,  6343,  6390,\n",
      "        6421,  6445,  6446,  6448,  6472,  6475,  6486,  6496,  6505,\n",
      "        6506,  6519,  6592,  6608,  6626,  6640,  6644,  6649,  6684,\n",
      "        6690,  6714,  6722,  6760,  6804,  6867,  6878,  6922,  6949,\n",
      "        6982,  6997,  7028,  7034,  7034,  7045,  7059,  7073,  7078,\n",
      "        7189,  7202,  7241,  7242,  7262,  7275,  7316,  7362,  7369,\n",
      "        7442,  7459,  7494,  7572,  7626,  7630,  7755,  7784,  7789,\n",
      "        7808,  7813,  7822,  7883,  7901,  7988,  7997,  8009,  8065,\n",
      "        8078,  8106,  8123,  8143,  8164,  8184,  8219,  8222,  8234,\n",
      "        8311,  8370,  8400,  8442,  8448,  8459,  8472,  8509,  8510,\n",
      "        8577,  8578,  8598,  8606,  8630,  8659,  8674,  8680,  8709,\n",
      "        8797,  8801,  8837,  8839,  8907,  8925,  8941,  8965,  9008,\n",
      "        9017,  9022,  9022,  9067,  9069,  9074,  9088,  9100,  9124,\n",
      "        9132,  9141,  9200,  9227,  9264,  9272,  9281,  9288,  9300,\n",
      "        9330,  9546,  9552,  9570,  9575,  9577,  9580,  9586,  9609,\n",
      "        9616,  9617,  9659,  9702,  9734,  9770,  9775,  9783,  9809,\n",
      "        9830,  9875,  9876,  9878,  9884,  9894,  9903,  9941, 10043,\n",
      "       10065, 10065, 10143, 10168, 10219, 10221, 10257, 10266, 10275,\n",
      "       10278, 10280, 10320, 10345, 10364, 10365, 10380, 10465, 10467,\n",
      "       10480, 10538, 10546, 10568, 10628, 10629, 10635, 10636, 10677,\n",
      "       10727, 10736, 10751, 10760, 10863, 10868, 10895, 10898, 10907,\n",
      "       10948, 10950, 11021, 11050, 11073, 11125, 11129, 11130, 11146,\n",
      "       11147, 11158, 11170, 11179, 11197, 11216, 11232, 11262, 11269,\n",
      "       11295, 11311, 11361, 11373, 11377, 11410, 11441, 11457, 11475,\n",
      "       11521, 11558, 11568, 11589, 11595, 11657, 11704, 11714, 11785,\n",
      "       11786, 11798, 11804, 11847, 11861, 11899, 11904, 11926, 11936,\n",
      "       11943, 11954, 11972, 12021, 12050, 12083, 12120, 12138, 12143,\n",
      "       12196, 12236, 12271, 12271, 12318, 12338, 12352, 12360, 12413,\n",
      "       12422, 12426, 12506, 12562, 12628, 12668], dtype=int64), array([7, 5, 6, 6, 7, 6, 6, 6, 7, 7, 6, 6, 7, 7, 6, 7, 7, 6, 7, 5, 5, 7,\n",
      "       6, 6, 7, 6, 6, 6, 6, 7, 7, 7, 5, 5, 6, 6, 6, 7, 6, 6, 7, 6, 7, 7,\n",
      "       6, 7, 6, 7, 7, 6, 6, 6, 7, 6, 7, 7, 6, 6, 7, 5, 7, 5, 7, 6, 7, 7,\n",
      "       7, 7, 7, 5, 5, 6, 7, 7, 5, 6, 7, 7, 6, 6, 6, 7, 7, 7, 7, 7, 7, 7,\n",
      "       7, 7, 7, 7, 7, 7, 7, 7, 5, 6, 6, 5, 7, 5, 7, 6, 7, 6, 6, 7, 7, 5,\n",
      "       7, 5, 7, 6, 7, 6, 7, 7, 5, 6, 6, 5, 5, 7, 6, 7, 5, 7, 7, 6, 6, 7,\n",
      "       7, 7, 7, 6, 7, 6, 7, 7, 6, 7, 6, 6, 7, 7, 7, 6, 7, 6, 7, 7, 6, 6,\n",
      "       5, 6, 7, 7, 6, 6, 7, 6, 7, 7, 7, 7, 5, 7, 6, 5, 5, 5, 6, 7, 6, 7,\n",
      "       7, 6, 7, 5, 6, 6, 6, 6, 6, 6, 6, 7, 6, 7, 7, 6, 7, 6, 6, 6, 7, 7,\n",
      "       6, 6, 5, 6, 7, 7, 7, 6, 7, 7, 6, 7, 6, 5, 6, 6, 5, 7, 5, 6, 6, 6,\n",
      "       5, 6, 6, 6, 7, 7, 7, 6, 6, 7, 7, 5, 6, 7, 6, 6, 7, 7, 6, 7, 5, 7,\n",
      "       6, 6, 5, 6, 6, 6, 7, 5, 6, 7, 6, 6, 5, 6, 5, 7, 7, 6, 6, 6, 6, 5,\n",
      "       6, 7, 5, 6, 6, 7, 6, 7, 6, 6, 7, 5, 6, 7, 7, 6, 6, 5, 5, 6, 7, 7,\n",
      "       7, 7, 7, 6, 6, 7, 6, 7, 5, 7, 5, 7, 5, 7, 7, 7, 6, 6, 6, 7, 7, 7,\n",
      "       6, 7, 7, 7, 5, 7, 7, 7, 7, 6, 7, 6, 6, 7, 6, 6, 7, 6, 7, 7, 6, 7,\n",
      "       6, 7, 7, 6, 5, 7, 7, 7, 6, 5, 7, 7, 6, 6, 7, 7, 7, 7, 7, 7, 6, 7,\n",
      "       5, 6, 6, 5, 5, 6, 7, 6, 5, 6, 6, 5, 5, 6, 7, 7, 7, 6, 7, 5, 6, 5,\n",
      "       7, 7, 6, 6, 7, 5, 6, 6, 7, 7, 7, 6, 7, 6, 7, 7, 6, 6, 6, 7, 6, 7,\n",
      "       7, 7, 7, 7, 7, 6, 6, 6, 7, 6, 6, 7, 6, 6, 6, 5, 7, 7, 6, 6, 5, 5,\n",
      "       6, 6, 6, 6, 7, 7, 7, 6, 5, 6, 6, 7, 7, 7, 7, 7, 6, 6, 6, 6, 7, 5,\n",
      "       7, 6, 5, 5, 6, 7, 6, 6, 7, 7, 7, 5, 7, 5, 5, 6, 7, 7, 7, 6, 7, 7,\n",
      "       7, 6, 5, 6, 7, 7, 7, 6, 7, 6, 6, 6, 6, 6, 6, 6, 6, 6, 7, 7, 6, 7,\n",
      "       6, 7, 7, 7, 6, 7, 6, 7], dtype=int64))\n"
     ]
    }
   ],
   "source": [
    "threshold = 3\n",
    "print(np.where(z > 3))"
   ]
  },
  {
   "cell_type": "code",
   "execution_count": 39,
   "metadata": {},
   "outputs": [
    {
     "name": "stdout",
     "output_type": "stream",
     "text": [
      "Before removing Outliers, Shape of Dataset: (12690, 8)\n"
     ]
    }
   ],
   "source": [
    "print('Before removing Outliers, Shape of Dataset:', df_ml.shape)\n",
    "df_ml = df_ml[(z < 3).all(axis=1)]"
   ]
  },
  {
   "cell_type": "code",
   "execution_count": 40,
   "metadata": {},
   "outputs": [
    {
     "name": "stdout",
     "output_type": "stream",
     "text": [
      "After removing Outliers, Shape of Dataset: (12202, 8)\n"
     ]
    }
   ],
   "source": [
    "print('After removing Outliers, Shape of Dataset:', df_ml.shape)"
   ]
  },
  {
   "cell_type": "code",
   "execution_count": 43,
   "metadata": {},
   "outputs": [
    {
     "data": {
      "text/html": [
       "<div>\n",
       "<style scoped>\n",
       "    .dataframe tbody tr th:only-of-type {\n",
       "        vertical-align: middle;\n",
       "    }\n",
       "\n",
       "    .dataframe tbody tr th {\n",
       "        vertical-align: top;\n",
       "    }\n",
       "\n",
       "    .dataframe thead th {\n",
       "        text-align: right;\n",
       "    }\n",
       "</style>\n",
       "<table border=\"1\" class=\"dataframe\">\n",
       "  <thead>\n",
       "    <tr style=\"text-align: right;\">\n",
       "      <th></th>\n",
       "      <th>TITLE</th>\n",
       "      <th>CUISINES</th>\n",
       "      <th>TIME</th>\n",
       "      <th>CITY</th>\n",
       "      <th>LOCALITY</th>\n",
       "      <th>RATING</th>\n",
       "      <th>VOTES</th>\n",
       "      <th>COST</th>\n",
       "    </tr>\n",
       "  </thead>\n",
       "  <tbody>\n",
       "    <tr>\n",
       "      <th>count</th>\n",
       "      <td>12202.000000</td>\n",
       "      <td>12202.000000</td>\n",
       "      <td>12202.000000</td>\n",
       "      <td>12202.000000</td>\n",
       "      <td>12202.000000</td>\n",
       "      <td>12202.000000</td>\n",
       "      <td>12202.000000</td>\n",
       "      <td>12202.000000</td>\n",
       "    </tr>\n",
       "    <tr>\n",
       "      <th>mean</th>\n",
       "      <td>65.360924</td>\n",
       "      <td>2798.590559</td>\n",
       "      <td>1439.488608</td>\n",
       "      <td>177.658007</td>\n",
       "      <td>762.764137</td>\n",
       "      <td>3.778005</td>\n",
       "      <td>345.296101</td>\n",
       "      <td>591.308884</td>\n",
       "    </tr>\n",
       "    <tr>\n",
       "      <th>std</th>\n",
       "      <td>36.163795</td>\n",
       "      <td>1516.048261</td>\n",
       "      <td>928.430822</td>\n",
       "      <td>109.801706</td>\n",
       "      <td>465.006142</td>\n",
       "      <td>0.384091</td>\n",
       "      <td>436.901064</td>\n",
       "      <td>445.761458</td>\n",
       "    </tr>\n",
       "    <tr>\n",
       "      <th>min</th>\n",
       "      <td>0.000000</td>\n",
       "      <td>0.000000</td>\n",
       "      <td>0.000000</td>\n",
       "      <td>0.000000</td>\n",
       "      <td>0.000000</td>\n",
       "      <td>2.600000</td>\n",
       "      <td>4.000000</td>\n",
       "      <td>20.000000</td>\n",
       "    </tr>\n",
       "    <tr>\n",
       "      <th>25%</th>\n",
       "      <td>34.000000</td>\n",
       "      <td>1475.000000</td>\n",
       "      <td>681.000000</td>\n",
       "      <td>75.000000</td>\n",
       "      <td>389.000000</td>\n",
       "      <td>3.600000</td>\n",
       "      <td>62.000000</td>\n",
       "      <td>300.000000</td>\n",
       "    </tr>\n",
       "    <tr>\n",
       "      <th>50%</th>\n",
       "      <td>62.000000</td>\n",
       "      <td>3044.000000</td>\n",
       "      <td>1372.000000</td>\n",
       "      <td>160.000000</td>\n",
       "      <td>674.000000</td>\n",
       "      <td>3.800000</td>\n",
       "      <td>191.000000</td>\n",
       "      <td>450.000000</td>\n",
       "    </tr>\n",
       "    <tr>\n",
       "      <th>75%</th>\n",
       "      <td>104.000000</td>\n",
       "      <td>4063.000000</td>\n",
       "      <td>2265.000000</td>\n",
       "      <td>277.000000</td>\n",
       "      <td>1175.000000</td>\n",
       "      <td>4.000000</td>\n",
       "      <td>415.668901</td>\n",
       "      <td>700.000000</td>\n",
       "    </tr>\n",
       "    <tr>\n",
       "      <th>max</th>\n",
       "      <td>122.000000</td>\n",
       "      <td>5182.000000</td>\n",
       "      <td>3294.000000</td>\n",
       "      <td>450.000000</td>\n",
       "      <td>1636.000000</td>\n",
       "      <td>4.900000</td>\n",
       "      <td>2811.000000</td>\n",
       "      <td>2500.000000</td>\n",
       "    </tr>\n",
       "  </tbody>\n",
       "</table>\n",
       "</div>"
      ],
      "text/plain": [
       "              TITLE      CUISINES          TIME          CITY      LOCALITY  \\\n",
       "count  12202.000000  12202.000000  12202.000000  12202.000000  12202.000000   \n",
       "mean      65.360924   2798.590559   1439.488608    177.658007    762.764137   \n",
       "std       36.163795   1516.048261    928.430822    109.801706    465.006142   \n",
       "min        0.000000      0.000000      0.000000      0.000000      0.000000   \n",
       "25%       34.000000   1475.000000    681.000000     75.000000    389.000000   \n",
       "50%       62.000000   3044.000000   1372.000000    160.000000    674.000000   \n",
       "75%      104.000000   4063.000000   2265.000000    277.000000   1175.000000   \n",
       "max      122.000000   5182.000000   3294.000000    450.000000   1636.000000   \n",
       "\n",
       "             RATING         VOTES          COST  \n",
       "count  12202.000000  12202.000000  12202.000000  \n",
       "mean       3.778005    345.296101    591.308884  \n",
       "std        0.384091    436.901064    445.761458  \n",
       "min        2.600000      4.000000     20.000000  \n",
       "25%        3.600000     62.000000    300.000000  \n",
       "50%        3.800000    191.000000    450.000000  \n",
       "75%        4.000000    415.668901    700.000000  \n",
       "max        4.900000   2811.000000   2500.000000  "
      ]
     },
     "execution_count": 43,
     "metadata": {},
     "output_type": "execute_result"
    }
   ],
   "source": [
    "df_ml.describe()"
   ]
  },
  {
   "cell_type": "code",
   "execution_count": 45,
   "metadata": {},
   "outputs": [
    {
     "name": "stdout",
     "output_type": "stream",
     "text": [
      "<class 'pandas.core.frame.DataFrame'>\n",
      "Int64Index: 12202 entries, 0 to 12689\n",
      "Data columns (total 8 columns):\n",
      " #   Column    Non-Null Count  Dtype  \n",
      "---  ------    --------------  -----  \n",
      " 0   TITLE     12202 non-null  int32  \n",
      " 1   CUISINES  12202 non-null  int32  \n",
      " 2   TIME      12202 non-null  int32  \n",
      " 3   CITY      12202 non-null  int32  \n",
      " 4   LOCALITY  12202 non-null  int32  \n",
      " 5   RATING    12202 non-null  float64\n",
      " 6   VOTES     12202 non-null  float64\n",
      " 7   COST      12202 non-null  int64  \n",
      "dtypes: float64(2), int32(5), int64(1)\n",
      "memory usage: 619.6 KB\n"
     ]
    }
   ],
   "source": [
    "df_ml.info()"
   ]
  },
  {
   "cell_type": "markdown",
   "metadata": {},
   "source": [
    "## Regression Model"
   ]
  },
  {
   "cell_type": "code",
   "execution_count": 47,
   "metadata": {},
   "outputs": [],
   "source": [
    "X = df_ml.drop('COST',axis = 1).values    # Attributes"
   ]
  },
  {
   "cell_type": "code",
   "execution_count": 49,
   "metadata": {},
   "outputs": [],
   "source": [
    "y = df_ml['COST'].values     # The target variable"
   ]
  },
  {
   "cell_type": "code",
   "execution_count": 50,
   "metadata": {},
   "outputs": [],
   "source": [
    "# Splitting into training and Test dataset\n",
    "X_train,X_test,y_train,y_test=train_test_split(X,y,test_size=0.2,random_state=100)"
   ]
  },
  {
   "cell_type": "code",
   "execution_count": 51,
   "metadata": {},
   "outputs": [],
   "source": [
    "# Importing some regression models and performance metrics\n",
    "from sklearn.linear_model import LinearRegression\n",
    "from sklearn.tree import DecisionTreeRegressor\n",
    "from sklearn.ensemble import RandomForestRegressor\n",
    "from sklearn import metrics"
   ]
  },
  {
   "cell_type": "code",
   "execution_count": 52,
   "metadata": {},
   "outputs": [],
   "source": [
    "# Models taken for Regression \n",
    "model_list = [LinearRegression(),DecisionTreeRegressor(),RandomForestRegressor()]  "
   ]
  },
  {
   "cell_type": "code",
   "execution_count": 53,
   "metadata": {},
   "outputs": [],
   "source": [
    "#Building Function for Model Testing\n",
    "def reg_function(model_list):\n",
    "    for model in model_list:\n",
    "        model.fit(X_train,y_train)\n",
    "        pred=model.predict(X_test)\n",
    "        print('Model Name :', model)\n",
    "        print('MAE:', metrics.mean_absolute_error(y_test, pred))\n",
    "        print('MSE:', metrics.mean_squared_error(y_test, pred))\n",
    "        print('RMSE:', np.sqrt(metrics.mean_squared_error(y_test, pred)),'\\n')"
   ]
  },
  {
   "cell_type": "code",
   "execution_count": 54,
   "metadata": {},
   "outputs": [
    {
     "name": "stdout",
     "output_type": "stream",
     "text": [
      "Model Name : LinearRegression()\n",
      "MAE: 257.16554482777144\n",
      "MSE: 144021.41564129372\n",
      "RMSE: 379.5015357561728 \n",
      "\n",
      "Model Name : DecisionTreeRegressor()\n",
      "MAE: 220.49733715690292\n",
      "MSE: 111195.1536255633\n",
      "RMSE: 333.45937327591093 \n",
      "\n",
      "Model Name : RandomForestRegressor()\n",
      "MAE: 163.1951785958136\n",
      "MSE: 57583.13013765149\n",
      "RMSE: 239.9648518797107 \n",
      "\n"
     ]
    }
   ],
   "source": [
    "reg_function(model_list)"
   ]
  },
  {
   "cell_type": "markdown",
   "metadata": {},
   "source": [
    "Best model is Random Forest Regressor"
   ]
  },
  {
   "cell_type": "code",
   "execution_count": 63,
   "metadata": {},
   "outputs": [
    {
     "data": {
      "text/html": [
       "<div>\n",
       "<style scoped>\n",
       "    .dataframe tbody tr th:only-of-type {\n",
       "        vertical-align: middle;\n",
       "    }\n",
       "\n",
       "    .dataframe tbody tr th {\n",
       "        vertical-align: top;\n",
       "    }\n",
       "\n",
       "    .dataframe thead th {\n",
       "        text-align: right;\n",
       "    }\n",
       "</style>\n",
       "<table border=\"1\" class=\"dataframe\">\n",
       "  <thead>\n",
       "    <tr style=\"text-align: right;\">\n",
       "      <th></th>\n",
       "      <th>Y Test</th>\n",
       "      <th>Pred</th>\n",
       "    </tr>\n",
       "  </thead>\n",
       "  <tbody>\n",
       "    <tr>\n",
       "      <th>0</th>\n",
       "      <td>300</td>\n",
       "      <td>260.0</td>\n",
       "    </tr>\n",
       "    <tr>\n",
       "      <th>1</th>\n",
       "      <td>250</td>\n",
       "      <td>330.0</td>\n",
       "    </tr>\n",
       "    <tr>\n",
       "      <th>2</th>\n",
       "      <td>350</td>\n",
       "      <td>329.5</td>\n",
       "    </tr>\n",
       "    <tr>\n",
       "      <th>3</th>\n",
       "      <td>250</td>\n",
       "      <td>335.5</td>\n",
       "    </tr>\n",
       "    <tr>\n",
       "      <th>4</th>\n",
       "      <td>2200</td>\n",
       "      <td>1786.5</td>\n",
       "    </tr>\n",
       "  </tbody>\n",
       "</table>\n",
       "</div>"
      ],
      "text/plain": [
       "   Y Test    Pred\n",
       "0     300   260.0\n",
       "1     250   330.0\n",
       "2     350   329.5\n",
       "3     250   335.5\n",
       "4    2200  1786.5"
      ]
     },
     "execution_count": 63,
     "metadata": {},
     "output_type": "execute_result"
    },
    {
     "data": {
      "image/png": "[encoded data removed]",
      "text/plain": [
       "<Figure size 720x720 with 1 Axes>"
      ]
     },
     "metadata": {
      "needs_background": "light"
     },
     "output_type": "display_data"
    }
   ],
   "source": [
    "# Plotting Actual values vs Predicted Values for the Final Model\n",
    "RandomForest = RandomForestRegressor()\n",
    "RandomForest.fit(X_train,y_train)\n",
    "pred = RandomForest.predict(X_test)\n",
    "pred_data = pd.DataFrame({'Y Test':y_test , 'Pred':pred},columns=['Y Test','Pred'])\n",
    "sns.lmplot(x='Y Test',y='Pred', data = pred_data, height=10, aspect= 1)\n",
    "pred_data.head()"
   ]
  },
  {
   "cell_type": "code",
   "execution_count": 64,
   "metadata": {},
   "outputs": [
    {
     "data": {
      "text/plain": [
       "0.7063761264408444"
      ]
     },
     "execution_count": 64,
     "metadata": {},
     "output_type": "execute_result"
    }
   ],
   "source": [
    "RandomForest.score(X_test,y_test)"
   ]
  },
  {
   "cell_type": "code",
   "execution_count": 71,
   "metadata": {},
   "outputs": [],
   "source": [
    "#Importing Scaler\n",
    "from sklearn import preprocessing\n",
    "scaler = preprocessing.StandardScaler()\n",
    "X_train_minmax = scaler.fit_transform(X_train)\n",
    "X_test_minmax = scaler.transform(X_test)"
   ]
  },
  {
   "cell_type": "code",
   "execution_count": 72,
   "metadata": {},
   "outputs": [
    {
     "name": "stdout",
     "output_type": "stream",
     "text": [
      "REGRESSION SCORE : 0.705639407006204\n"
     ]
    },
    {
     "data": {
      "text/html": [
       "<div>\n",
       "<style scoped>\n",
       "    .dataframe tbody tr th:only-of-type {\n",
       "        vertical-align: middle;\n",
       "    }\n",
       "\n",
       "    .dataframe tbody tr th {\n",
       "        vertical-align: top;\n",
       "    }\n",
       "\n",
       "    .dataframe thead th {\n",
       "        text-align: right;\n",
       "    }\n",
       "</style>\n",
       "<table border=\"1\" class=\"dataframe\">\n",
       "  <thead>\n",
       "    <tr style=\"text-align: right;\">\n",
       "      <th></th>\n",
       "      <th>Y Test</th>\n",
       "      <th>Pred</th>\n",
       "    </tr>\n",
       "  </thead>\n",
       "  <tbody>\n",
       "    <tr>\n",
       "      <th>0</th>\n",
       "      <td>300</td>\n",
       "      <td>260.0</td>\n",
       "    </tr>\n",
       "    <tr>\n",
       "      <th>1</th>\n",
       "      <td>250</td>\n",
       "      <td>330.0</td>\n",
       "    </tr>\n",
       "    <tr>\n",
       "      <th>2</th>\n",
       "      <td>350</td>\n",
       "      <td>329.5</td>\n",
       "    </tr>\n",
       "    <tr>\n",
       "      <th>3</th>\n",
       "      <td>250</td>\n",
       "      <td>335.5</td>\n",
       "    </tr>\n",
       "    <tr>\n",
       "      <th>4</th>\n",
       "      <td>2200</td>\n",
       "      <td>1786.5</td>\n",
       "    </tr>\n",
       "  </tbody>\n",
       "</table>\n",
       "</div>"
      ],
      "text/plain": [
       "   Y Test    Pred\n",
       "0     300   260.0\n",
       "1     250   330.0\n",
       "2     350   329.5\n",
       "3     250   335.5\n",
       "4    2200  1786.5"
      ]
     },
     "execution_count": 72,
     "metadata": {},
     "output_type": "execute_result"
    },
    {
     "data": {
      "image/png": "[encoded data removed]",
      "text/plain": [
       "<Figure size 720x720 with 1 Axes>"
      ]
     },
     "metadata": {
      "needs_background": "light"
     },
     "output_type": "display_data"
    }
   ],
   "source": [
    "# Testing the Model again after Scaling\n",
    "RandomForest = RandomForestRegressor()\n",
    "RandomForest.fit(X_train_minmax,y_train)\n",
    "pred = RandomForest.predict(X_test_minmax)\n",
    "pred_data2 = pd.DataFrame({'Y Test':y_test , 'Pred':pred},columns=['Y Test','Pred'])\n",
    "sns.lmplot(x='Y Test',y='Pred', data = pred_data2, height=10, aspect= 1)\n",
    "print(\"REGRESSION SCORE :\",RandomForest.score(X_test_minmax,y_test))\n",
    "pred_data.head()"
   ]
  },
  {
   "cell_type": "code",
   "execution_count": null,
   "metadata": {},
   "outputs": [],
   "source": []
  }
 ],
 "metadata": {
  "kernelspec": {
   "display_name": "Python 3",
   "language": "python",
   "name": "python3"
  },
  "language_info": {
   "codemirror_mode": {
    "name": "ipython",
    "version": 3
   },
   "file_extension": ".py",
   "mimetype": "text/x-python",
   "name": "python",
   "nbconvert_exporter": "python",
   "pygments_lexer": "ipython3",
   "version": "3.8.3"
  }
 },
 "nbformat": 4,
 "nbformat_minor": 4
}
